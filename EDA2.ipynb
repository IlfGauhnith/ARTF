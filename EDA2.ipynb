{
 "cells": [
  {
   "cell_type": "code",
   "execution_count": null,
   "metadata": {},
   "outputs": [],
   "source": [
    "!pip install -U kaleido"
   ]
  },
  {
   "cell_type": "code",
   "execution_count": 2,
   "metadata": {},
   "outputs": [],
   "source": [
    "import pandas as pd\n",
    "import plotly.express as px\n",
    "import numpy as np\n",
    "import plotly.graph_objs as go\n",
    "\n",
    "import matplotlib.pyplot as plt\n",
    "import os\n",
    "%matplotlib inline  \n",
    "import plotly.io as pio"
   ]
  },
  {
   "cell_type": "code",
   "execution_count": 7,
   "metadata": {},
   "outputs": [],
   "source": [
    "df_tes = pd.read_csv('tesseract_experiment.csv')\n",
    "\n",
    "df_tes['accuracy'] = df_tes['accuracy'].str.replace('%', '')\n",
    "df_tes['accuracy'] = pd.to_numeric(df_tes['accuracy'])\n",
    "df_tes['accuracy'] = df_tes['accuracy'] / 100\n",
    "\n",
    "\n",
    "\n",
    "df_gv = pd.read_csv('google_vision_experiment.csv')\n",
    "\n",
    "df_gv['accuracy'] = df_gv['accuracy'].str.replace('%', '')\n",
    "df_gv['accuracy'] = pd.to_numeric(df_gv['accuracy'])\n",
    "df_gv['accuracy'] = df_gv['accuracy'] / 100\n"
   ]
  },
  {
   "cell_type": "code",
   "execution_count": 9,
   "metadata": {},
   "outputs": [],
   "source": [
    "df_tes.rename(columns={'accuracy': 'accuracy_ts'}, inplace=True)\n",
    "df_gv.rename(columns={'accuracy': 'accuracy_gv'}, inplace=True)\n",
    "\n",
    "merged_df = pd.merge(df_tes, df_gv, on=[col for col in df_tes.columns if col != 'accuracy_ts'])"
   ]
  },
  {
   "cell_type": "code",
   "execution_count": 12,
   "metadata": {},
   "outputs": [
    {
     "data": {
      "text/html": [
       "<div>\n",
       "<style scoped>\n",
       "    .dataframe tbody tr th:only-of-type {\n",
       "        vertical-align: middle;\n",
       "    }\n",
       "\n",
       "    .dataframe tbody tr th {\n",
       "        vertical-align: top;\n",
       "    }\n",
       "\n",
       "    .dataframe thead th {\n",
       "        text-align: right;\n",
       "    }\n",
       "</style>\n",
       "<table border=\"1\" class=\"dataframe\">\n",
       "  <thead>\n",
       "    <tr style=\"text-align: right;\">\n",
       "      <th></th>\n",
       "      <th>font_name</th>\n",
       "      <th>accuracy_ts</th>\n",
       "      <th>font_size</th>\n",
       "      <th>vox_atypl</th>\n",
       "      <th>underlined</th>\n",
       "      <th>bold</th>\n",
       "      <th>accuracy_gv</th>\n",
       "    </tr>\n",
       "  </thead>\n",
       "  <tbody>\n",
       "    <tr>\n",
       "      <th>780</th>\n",
       "      <td>Anglaise</td>\n",
       "      <td>0.1900</td>\n",
       "      <td>10</td>\n",
       "      <td>scripts</td>\n",
       "      <td>True</td>\n",
       "      <td>False</td>\n",
       "      <td>0.9720</td>\n",
       "    </tr>\n",
       "    <tr>\n",
       "      <th>781</th>\n",
       "      <td>Anglaise</td>\n",
       "      <td>0.2461</td>\n",
       "      <td>12</td>\n",
       "      <td>scripts</td>\n",
       "      <td>True</td>\n",
       "      <td>False</td>\n",
       "      <td>0.9533</td>\n",
       "    </tr>\n",
       "    <tr>\n",
       "      <th>782</th>\n",
       "      <td>Anglaise</td>\n",
       "      <td>0.2461</td>\n",
       "      <td>14</td>\n",
       "      <td>scripts</td>\n",
       "      <td>True</td>\n",
       "      <td>False</td>\n",
       "      <td>0.9657</td>\n",
       "    </tr>\n",
       "    <tr>\n",
       "      <th>783</th>\n",
       "      <td>Anglaise</td>\n",
       "      <td>0.1620</td>\n",
       "      <td>16</td>\n",
       "      <td>scripts</td>\n",
       "      <td>True</td>\n",
       "      <td>False</td>\n",
       "      <td>0.9626</td>\n",
       "    </tr>\n",
       "    <tr>\n",
       "      <th>784</th>\n",
       "      <td>Anglaise</td>\n",
       "      <td>0.0623</td>\n",
       "      <td>18</td>\n",
       "      <td>scripts</td>\n",
       "      <td>True</td>\n",
       "      <td>False</td>\n",
       "      <td>0.9564</td>\n",
       "    </tr>\n",
       "  </tbody>\n",
       "</table>\n",
       "</div>"
      ],
      "text/plain": [
       "    font_name  accuracy_ts  font_size vox_atypl  underlined   bold  \\\n",
       "780  Anglaise       0.1900         10   scripts        True  False   \n",
       "781  Anglaise       0.2461         12   scripts        True  False   \n",
       "782  Anglaise       0.2461         14   scripts        True  False   \n",
       "783  Anglaise       0.1620         16   scripts        True  False   \n",
       "784  Anglaise       0.0623         18   scripts        True  False   \n",
       "\n",
       "     accuracy_gv  \n",
       "780       0.9720  \n",
       "781       0.9533  \n",
       "782       0.9657  \n",
       "783       0.9626  \n",
       "784       0.9564  "
      ]
     },
     "execution_count": 12,
     "metadata": {},
     "output_type": "execute_result"
    }
   ],
   "source": [
    "scripts_df = merged_df[merged_df['vox_atypl'] == 'scripts']\n",
    "\n"
   ]
  }
 ],
 "metadata": {
  "kernelspec": {
   "display_name": ".venv",
   "language": "python",
   "name": "python3"
  },
  "language_info": {
   "codemirror_mode": {
    "name": "ipython",
    "version": 3
   },
   "file_extension": ".py",
   "mimetype": "text/x-python",
   "name": "python",
   "nbconvert_exporter": "python",
   "pygments_lexer": "ipython3",
   "version": "3.12.4"
  }
 },
 "nbformat": 4,
 "nbformat_minor": 2
}
