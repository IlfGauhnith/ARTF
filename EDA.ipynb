{
 "cells": [
  {
   "cell_type": "code",
   "execution_count": 1,
   "metadata": {},
   "outputs": [],
   "source": [
    "import pandas as pd\n",
    "import plotly.express as px\n",
    "import numpy as np\n",
    "import plotly.graph_objs as go\n",
    "\n",
    "import matplotlib.pyplot as plt\n",
    "import os\n",
    "%matplotlib inline  \n",
    "import plotly.io as pio"
   ]
  },
  {
   "cell_type": "markdown",
   "metadata": {},
   "source": [
    "# vox only EDA"
   ]
  },
  {
   "cell_type": "code",
   "execution_count": 2,
   "metadata": {},
   "outputs": [
    {
     "data": {
      "text/html": [
       "<div>\n",
       "<style scoped>\n",
       "    .dataframe tbody tr th:only-of-type {\n",
       "        vertical-align: middle;\n",
       "    }\n",
       "\n",
       "    .dataframe tbody tr th {\n",
       "        vertical-align: top;\n",
       "    }\n",
       "\n",
       "    .dataframe thead th {\n",
       "        text-align: right;\n",
       "    }\n",
       "</style>\n",
       "<table border=\"1\" class=\"dataframe\">\n",
       "  <thead>\n",
       "    <tr style=\"text-align: right;\">\n",
       "      <th></th>\n",
       "      <th>font_name</th>\n",
       "      <th>accuracy</th>\n",
       "      <th>font_size</th>\n",
       "      <th>vox_atypl</th>\n",
       "      <th>underlined</th>\n",
       "      <th>striked</th>\n",
       "    </tr>\n",
       "  </thead>\n",
       "  <tbody>\n",
       "    <tr>\n",
       "      <th>0</th>\n",
       "      <td>AshleyScriptMTStdRg</td>\n",
       "      <td>0.0062</td>\n",
       "      <td>18</td>\n",
       "      <td>manual</td>\n",
       "      <td>False</td>\n",
       "      <td>True</td>\n",
       "    </tr>\n",
       "    <tr>\n",
       "      <th>1</th>\n",
       "      <td>Libra Regular</td>\n",
       "      <td>0.7975</td>\n",
       "      <td>22</td>\n",
       "      <td>manual</td>\n",
       "      <td>False</td>\n",
       "      <td>False</td>\n",
       "    </tr>\n",
       "    <tr>\n",
       "      <th>2</th>\n",
       "      <td>balzac</td>\n",
       "      <td>0.0966</td>\n",
       "      <td>28</td>\n",
       "      <td>manual</td>\n",
       "      <td>False</td>\n",
       "      <td>True</td>\n",
       "    </tr>\n",
       "    <tr>\n",
       "      <th>3</th>\n",
       "      <td>BreitkopfFraktur</td>\n",
       "      <td>0.9128</td>\n",
       "      <td>22</td>\n",
       "      <td>manual</td>\n",
       "      <td>True</td>\n",
       "      <td>False</td>\n",
       "    </tr>\n",
       "    <tr>\n",
       "      <th>4</th>\n",
       "      <td>BreitkopfFraktur</td>\n",
       "      <td>0.9097</td>\n",
       "      <td>16</td>\n",
       "      <td>manual</td>\n",
       "      <td>True</td>\n",
       "      <td>False</td>\n",
       "    </tr>\n",
       "  </tbody>\n",
       "</table>\n",
       "</div>"
      ],
      "text/plain": [
       "             font_name  accuracy  font_size vox_atypl  underlined  striked\n",
       "0  AshleyScriptMTStdRg    0.0062         18    manual       False     True\n",
       "1        Libra Regular    0.7975         22    manual       False    False\n",
       "2               balzac    0.0966         28    manual       False     True\n",
       "3     BreitkopfFraktur    0.9128         22    manual        True    False\n",
       "4     BreitkopfFraktur    0.9097         16    manual        True    False"
      ]
     },
     "execution_count": 2,
     "metadata": {},
     "output_type": "execute_result"
    }
   ],
   "source": [
    "df = pd.read_csv('experiment.csv')\n",
    "\n",
    "df['accuracy'] = df['accuracy'].str.replace('%', '')\n",
    "df['accuracy'] = pd.to_numeric(df['accuracy'])\n",
    "df['accuracy'] = df['accuracy'] / 100\n",
    "\n",
    "df.head()"
   ]
  },
  {
   "cell_type": "code",
   "execution_count": 3,
   "metadata": {},
   "outputs": [
    {
     "data": {
      "application/vnd.plotly.v1+json": {
       "config": {
        "plotlyServerURL": "https://plot.ly"
       },
       "data": [
        {
         "marker": {
          "color": [
           "#636EFA",
           "#EF553B",
           "#00CC96",
           "#AB63FA",
           "#FFA15A",
           "#19D3F3",
           "#FF6692",
           "#B6E880",
           "#FF97FF",
           "#FECB52"
          ]
         },
         "text": [
          0.55,
          0.54,
          0.53,
          0.53,
          0.52,
          0.52,
          0.53,
          0.52,
          0.52,
          0.51,
          0.51,
          0.51,
          0.5
         ],
         "textfont": {
          "size": 18
         },
         "textposition": "outside",
         "type": "bar",
         "x": [
          10,
          12,
          14,
          16,
          18,
          20,
          22,
          24,
          26,
          28,
          30,
          32,
          34
         ],
         "y": [
          0.5467273504273504,
          0.5406794871794871,
          0.5330418803418803,
          0.5334461538461538,
          0.5216,
          0.5163940170940171,
          0.529808547008547,
          0.5166068376068376,
          0.5153213675213675,
          0.5137555555555555,
          0.5111213675213675,
          0.5140717948717949,
          0.5029153846153845
         ]
        }
       ],
       "layout": {
        "bargap": 0.4,
        "font": {
         "size": 18
        },
        "height": 500,
        "template": {
         "data": {
          "bar": [
           {
            "error_x": {
             "color": "#2a3f5f"
            },
            "error_y": {
             "color": "#2a3f5f"
            },
            "marker": {
             "line": {
              "color": "#E5ECF6",
              "width": 0.5
             },
             "pattern": {
              "fillmode": "overlay",
              "size": 10,
              "solidity": 0.2
             }
            },
            "type": "bar"
           }
          ],
          "barpolar": [
           {
            "marker": {
             "line": {
              "color": "#E5ECF6",
              "width": 0.5
             },
             "pattern": {
              "fillmode": "overlay",
              "size": 10,
              "solidity": 0.2
             }
            },
            "type": "barpolar"
           }
          ],
          "carpet": [
           {
            "aaxis": {
             "endlinecolor": "#2a3f5f",
             "gridcolor": "white",
             "linecolor": "white",
             "minorgridcolor": "white",
             "startlinecolor": "#2a3f5f"
            },
            "baxis": {
             "endlinecolor": "#2a3f5f",
             "gridcolor": "white",
             "linecolor": "white",
             "minorgridcolor": "white",
             "startlinecolor": "#2a3f5f"
            },
            "type": "carpet"
           }
          ],
          "choropleth": [
           {
            "colorbar": {
             "outlinewidth": 0,
             "ticks": ""
            },
            "type": "choropleth"
           }
          ],
          "contour": [
           {
            "colorbar": {
             "outlinewidth": 0,
             "ticks": ""
            },
            "colorscale": [
             [
              0,
              "#0d0887"
             ],
             [
              0.1111111111111111,
              "#46039f"
             ],
             [
              0.2222222222222222,
              "#7201a8"
             ],
             [
              0.3333333333333333,
              "#9c179e"
             ],
             [
              0.4444444444444444,
              "#bd3786"
             ],
             [
              0.5555555555555556,
              "#d8576b"
             ],
             [
              0.6666666666666666,
              "#ed7953"
             ],
             [
              0.7777777777777778,
              "#fb9f3a"
             ],
             [
              0.8888888888888888,
              "#fdca26"
             ],
             [
              1,
              "#f0f921"
             ]
            ],
            "type": "contour"
           }
          ],
          "contourcarpet": [
           {
            "colorbar": {
             "outlinewidth": 0,
             "ticks": ""
            },
            "type": "contourcarpet"
           }
          ],
          "heatmap": [
           {
            "colorbar": {
             "outlinewidth": 0,
             "ticks": ""
            },
            "colorscale": [
             [
              0,
              "#0d0887"
             ],
             [
              0.1111111111111111,
              "#46039f"
             ],
             [
              0.2222222222222222,
              "#7201a8"
             ],
             [
              0.3333333333333333,
              "#9c179e"
             ],
             [
              0.4444444444444444,
              "#bd3786"
             ],
             [
              0.5555555555555556,
              "#d8576b"
             ],
             [
              0.6666666666666666,
              "#ed7953"
             ],
             [
              0.7777777777777778,
              "#fb9f3a"
             ],
             [
              0.8888888888888888,
              "#fdca26"
             ],
             [
              1,
              "#f0f921"
             ]
            ],
            "type": "heatmap"
           }
          ],
          "heatmapgl": [
           {
            "colorbar": {
             "outlinewidth": 0,
             "ticks": ""
            },
            "colorscale": [
             [
              0,
              "#0d0887"
             ],
             [
              0.1111111111111111,
              "#46039f"
             ],
             [
              0.2222222222222222,
              "#7201a8"
             ],
             [
              0.3333333333333333,
              "#9c179e"
             ],
             [
              0.4444444444444444,
              "#bd3786"
             ],
             [
              0.5555555555555556,
              "#d8576b"
             ],
             [
              0.6666666666666666,
              "#ed7953"
             ],
             [
              0.7777777777777778,
              "#fb9f3a"
             ],
             [
              0.8888888888888888,
              "#fdca26"
             ],
             [
              1,
              "#f0f921"
             ]
            ],
            "type": "heatmapgl"
           }
          ],
          "histogram": [
           {
            "marker": {
             "pattern": {
              "fillmode": "overlay",
              "size": 10,
              "solidity": 0.2
             }
            },
            "type": "histogram"
           }
          ],
          "histogram2d": [
           {
            "colorbar": {
             "outlinewidth": 0,
             "ticks": ""
            },
            "colorscale": [
             [
              0,
              "#0d0887"
             ],
             [
              0.1111111111111111,
              "#46039f"
             ],
             [
              0.2222222222222222,
              "#7201a8"
             ],
             [
              0.3333333333333333,
              "#9c179e"
             ],
             [
              0.4444444444444444,
              "#bd3786"
             ],
             [
              0.5555555555555556,
              "#d8576b"
             ],
             [
              0.6666666666666666,
              "#ed7953"
             ],
             [
              0.7777777777777778,
              "#fb9f3a"
             ],
             [
              0.8888888888888888,
              "#fdca26"
             ],
             [
              1,
              "#f0f921"
             ]
            ],
            "type": "histogram2d"
           }
          ],
          "histogram2dcontour": [
           {
            "colorbar": {
             "outlinewidth": 0,
             "ticks": ""
            },
            "colorscale": [
             [
              0,
              "#0d0887"
             ],
             [
              0.1111111111111111,
              "#46039f"
             ],
             [
              0.2222222222222222,
              "#7201a8"
             ],
             [
              0.3333333333333333,
              "#9c179e"
             ],
             [
              0.4444444444444444,
              "#bd3786"
             ],
             [
              0.5555555555555556,
              "#d8576b"
             ],
             [
              0.6666666666666666,
              "#ed7953"
             ],
             [
              0.7777777777777778,
              "#fb9f3a"
             ],
             [
              0.8888888888888888,
              "#fdca26"
             ],
             [
              1,
              "#f0f921"
             ]
            ],
            "type": "histogram2dcontour"
           }
          ],
          "mesh3d": [
           {
            "colorbar": {
             "outlinewidth": 0,
             "ticks": ""
            },
            "type": "mesh3d"
           }
          ],
          "parcoords": [
           {
            "line": {
             "colorbar": {
              "outlinewidth": 0,
              "ticks": ""
             }
            },
            "type": "parcoords"
           }
          ],
          "pie": [
           {
            "automargin": true,
            "type": "pie"
           }
          ],
          "scatter": [
           {
            "fillpattern": {
             "fillmode": "overlay",
             "size": 10,
             "solidity": 0.2
            },
            "type": "scatter"
           }
          ],
          "scatter3d": [
           {
            "line": {
             "colorbar": {
              "outlinewidth": 0,
              "ticks": ""
             }
            },
            "marker": {
             "colorbar": {
              "outlinewidth": 0,
              "ticks": ""
             }
            },
            "type": "scatter3d"
           }
          ],
          "scattercarpet": [
           {
            "marker": {
             "colorbar": {
              "outlinewidth": 0,
              "ticks": ""
             }
            },
            "type": "scattercarpet"
           }
          ],
          "scattergeo": [
           {
            "marker": {
             "colorbar": {
              "outlinewidth": 0,
              "ticks": ""
             }
            },
            "type": "scattergeo"
           }
          ],
          "scattergl": [
           {
            "marker": {
             "colorbar": {
              "outlinewidth": 0,
              "ticks": ""
             }
            },
            "type": "scattergl"
           }
          ],
          "scattermapbox": [
           {
            "marker": {
             "colorbar": {
              "outlinewidth": 0,
              "ticks": ""
             }
            },
            "type": "scattermapbox"
           }
          ],
          "scatterpolar": [
           {
            "marker": {
             "colorbar": {
              "outlinewidth": 0,
              "ticks": ""
             }
            },
            "type": "scatterpolar"
           }
          ],
          "scatterpolargl": [
           {
            "marker": {
             "colorbar": {
              "outlinewidth": 0,
              "ticks": ""
             }
            },
            "type": "scatterpolargl"
           }
          ],
          "scatterternary": [
           {
            "marker": {
             "colorbar": {
              "outlinewidth": 0,
              "ticks": ""
             }
            },
            "type": "scatterternary"
           }
          ],
          "surface": [
           {
            "colorbar": {
             "outlinewidth": 0,
             "ticks": ""
            },
            "colorscale": [
             [
              0,
              "#0d0887"
             ],
             [
              0.1111111111111111,
              "#46039f"
             ],
             [
              0.2222222222222222,
              "#7201a8"
             ],
             [
              0.3333333333333333,
              "#9c179e"
             ],
             [
              0.4444444444444444,
              "#bd3786"
             ],
             [
              0.5555555555555556,
              "#d8576b"
             ],
             [
              0.6666666666666666,
              "#ed7953"
             ],
             [
              0.7777777777777778,
              "#fb9f3a"
             ],
             [
              0.8888888888888888,
              "#fdca26"
             ],
             [
              1,
              "#f0f921"
             ]
            ],
            "type": "surface"
           }
          ],
          "table": [
           {
            "cells": {
             "fill": {
              "color": "#EBF0F8"
             },
             "line": {
              "color": "white"
             }
            },
            "header": {
             "fill": {
              "color": "#C8D4E3"
             },
             "line": {
              "color": "white"
             }
            },
            "type": "table"
           }
          ]
         },
         "layout": {
          "annotationdefaults": {
           "arrowcolor": "#2a3f5f",
           "arrowhead": 0,
           "arrowwidth": 1
          },
          "autotypenumbers": "strict",
          "coloraxis": {
           "colorbar": {
            "outlinewidth": 0,
            "ticks": ""
           }
          },
          "colorscale": {
           "diverging": [
            [
             0,
             "#8e0152"
            ],
            [
             0.1,
             "#c51b7d"
            ],
            [
             0.2,
             "#de77ae"
            ],
            [
             0.3,
             "#f1b6da"
            ],
            [
             0.4,
             "#fde0ef"
            ],
            [
             0.5,
             "#f7f7f7"
            ],
            [
             0.6,
             "#e6f5d0"
            ],
            [
             0.7,
             "#b8e186"
            ],
            [
             0.8,
             "#7fbc41"
            ],
            [
             0.9,
             "#4d9221"
            ],
            [
             1,
             "#276419"
            ]
           ],
           "sequential": [
            [
             0,
             "#0d0887"
            ],
            [
             0.1111111111111111,
             "#46039f"
            ],
            [
             0.2222222222222222,
             "#7201a8"
            ],
            [
             0.3333333333333333,
             "#9c179e"
            ],
            [
             0.4444444444444444,
             "#bd3786"
            ],
            [
             0.5555555555555556,
             "#d8576b"
            ],
            [
             0.6666666666666666,
             "#ed7953"
            ],
            [
             0.7777777777777778,
             "#fb9f3a"
            ],
            [
             0.8888888888888888,
             "#fdca26"
            ],
            [
             1,
             "#f0f921"
            ]
           ],
           "sequentialminus": [
            [
             0,
             "#0d0887"
            ],
            [
             0.1111111111111111,
             "#46039f"
            ],
            [
             0.2222222222222222,
             "#7201a8"
            ],
            [
             0.3333333333333333,
             "#9c179e"
            ],
            [
             0.4444444444444444,
             "#bd3786"
            ],
            [
             0.5555555555555556,
             "#d8576b"
            ],
            [
             0.6666666666666666,
             "#ed7953"
            ],
            [
             0.7777777777777778,
             "#fb9f3a"
            ],
            [
             0.8888888888888888,
             "#fdca26"
            ],
            [
             1,
             "#f0f921"
            ]
           ]
          },
          "colorway": [
           "#636efa",
           "#EF553B",
           "#00cc96",
           "#ab63fa",
           "#FFA15A",
           "#19d3f3",
           "#FF6692",
           "#B6E880",
           "#FF97FF",
           "#FECB52"
          ],
          "font": {
           "color": "#2a3f5f"
          },
          "geo": {
           "bgcolor": "white",
           "lakecolor": "white",
           "landcolor": "#E5ECF6",
           "showlakes": true,
           "showland": true,
           "subunitcolor": "white"
          },
          "hoverlabel": {
           "align": "left"
          },
          "hovermode": "closest",
          "mapbox": {
           "style": "light"
          },
          "paper_bgcolor": "white",
          "plot_bgcolor": "#E5ECF6",
          "polar": {
           "angularaxis": {
            "gridcolor": "white",
            "linecolor": "white",
            "ticks": ""
           },
           "bgcolor": "#E5ECF6",
           "radialaxis": {
            "gridcolor": "white",
            "linecolor": "white",
            "ticks": ""
           }
          },
          "scene": {
           "xaxis": {
            "backgroundcolor": "#E5ECF6",
            "gridcolor": "white",
            "gridwidth": 2,
            "linecolor": "white",
            "showbackground": true,
            "ticks": "",
            "zerolinecolor": "white"
           },
           "yaxis": {
            "backgroundcolor": "#E5ECF6",
            "gridcolor": "white",
            "gridwidth": 2,
            "linecolor": "white",
            "showbackground": true,
            "ticks": "",
            "zerolinecolor": "white"
           },
           "zaxis": {
            "backgroundcolor": "#E5ECF6",
            "gridcolor": "white",
            "gridwidth": 2,
            "linecolor": "white",
            "showbackground": true,
            "ticks": "",
            "zerolinecolor": "white"
           }
          },
          "shapedefaults": {
           "line": {
            "color": "#2a3f5f"
           }
          },
          "ternary": {
           "aaxis": {
            "gridcolor": "white",
            "linecolor": "white",
            "ticks": ""
           },
           "baxis": {
            "gridcolor": "white",
            "linecolor": "white",
            "ticks": ""
           },
           "bgcolor": "#E5ECF6",
           "caxis": {
            "gridcolor": "white",
            "linecolor": "white",
            "ticks": ""
           }
          },
          "title": {
           "x": 0.05
          },
          "xaxis": {
           "automargin": true,
           "gridcolor": "white",
           "linecolor": "white",
           "ticks": "",
           "title": {
            "standoff": 15
           },
           "zerolinecolor": "white",
           "zerolinewidth": 2
          },
          "yaxis": {
           "automargin": true,
           "gridcolor": "white",
           "linecolor": "white",
           "ticks": "",
           "title": {
            "standoff": 15
           },
           "zerolinecolor": "white",
           "zerolinewidth": 2
          }
         }
        },
        "title": {
         "text": "Mean Accuracy by Font Size"
        },
        "width": 1500,
        "xaxis": {
         "ticktext": [
          10,
          12,
          14,
          16,
          18,
          20,
          22,
          24,
          26,
          28,
          30,
          32,
          34
         ],
         "tickvals": [
          10,
          12,
          14,
          16,
          18,
          20,
          22,
          24,
          26,
          28,
          30,
          32,
          34
         ],
         "title": {
          "text": "Font Size"
         }
        },
        "yaxis": {
         "range": [
          0,
          1
         ],
         "title": {
          "text": "Mean Accuracy"
         }
        }
       }
      }
     },
     "metadata": {},
     "output_type": "display_data"
    }
   ],
   "source": [
    "grouped_df = df.groupby(['font_size'])['accuracy'].mean().reset_index()\n",
    "\n",
    "fig = go.Figure()\n",
    "\n",
    "colors = px.colors.qualitative.Plotly[:len(grouped_df)]\n",
    "\n",
    "fig.add_trace(go.Bar(x=grouped_df['font_size'], \n",
    "                     y=grouped_df['accuracy'],\n",
    "                     marker=dict(color=colors),  # Change color here\n",
    "                     text=grouped_df['accuracy'].round(2),  # Add accuracy value as text label\n",
    "                     textfont=dict(size=18),\n",
    "                     textposition='outside'  # Set the text position outside the bar\n",
    "                     ))\n",
    "\n",
    "fig.update_layout(title='Mean Accuracy by Font Size',\n",
    "                  xaxis=dict(title='Font Size', tickvals=grouped_df['font_size'], ticktext=grouped_df['font_size']),\n",
    "                  yaxis=dict(title='Mean Accuracy'),\n",
    "                  font=dict(size=18),\n",
    "                  bargap=0.4,\n",
    "                  height=500,\n",
    "                  width=1500)\n",
    "\n",
    "fig.update_yaxes(range=[0, 1]) \n",
    "\n",
    "fig.show()"
   ]
  },
  {
   "cell_type": "code",
   "execution_count": 4,
   "metadata": {},
   "outputs": [
    {
     "data": {
      "application/vnd.plotly.v1+json": {
       "config": {
        "plotlyServerURL": "https://plot.ly"
       },
       "data": [
        {
         "marker": {
          "color": "lightsalmon"
         },
         "name": "Regular",
         "text": [
          0.85,
          0.81,
          0.8,
          0.83,
          0.79,
          0.78,
          0.82,
          0.78,
          0.78,
          0.78,
          0.77,
          0.77,
          0.76
         ],
         "textfont": {
          "size": 18
         },
         "type": "bar",
         "x": [
          10,
          12,
          14,
          16,
          18,
          20,
          22,
          24,
          26,
          28,
          30,
          32,
          34
         ],
         "y": [
          0.847574358974359,
          0.809951282051282,
          0.7985384615384614,
          0.8298615384615385,
          0.790076923076923,
          0.7815461538461539,
          0.8159589743589744,
          0.7834589743589744,
          0.780974358974359,
          0.7779487179487179,
          0.7713974358974358,
          0.7683589743589744,
          0.758051282051282
         ]
        },
        {
         "marker": {
          "color": "indianred"
         },
         "name": "Underlined",
         "text": [
          0.78,
          0.8,
          0.79,
          0.76,
          0.77,
          0.76,
          0.76,
          0.76,
          0.75,
          0.75,
          0.76,
          0.77,
          0.74
         ],
         "textfont": {
          "size": 18
         },
         "type": "bar",
         "x": [
          10,
          12,
          14,
          16,
          18,
          20,
          22,
          24,
          26,
          28,
          30,
          32,
          34
         ],
         "y": [
          0.7788923076923077,
          0.803648717948718,
          0.7869564102564102,
          0.7616384615384616,
          0.7689179487179487,
          0.7562974358974359,
          0.7636410256410257,
          0.7592512820512821,
          0.7508564102564103,
          0.7532538461538462,
          0.756374358974359,
          0.767623076923077,
          0.7443820512820513
         ]
        },
        {
         "marker": {
          "color": "goldenrod"
         },
         "name": "Striked",
         "text": [
          0.01,
          0.01,
          0.01,
          0.01,
          0.01,
          0.01,
          0.01,
          0.01,
          0.01,
          0.01,
          0.01,
          0.01,
          0.01
         ],
         "textfont": {
          "size": 18
         },
         "type": "bar",
         "x": [
          10,
          12,
          14,
          16,
          18,
          20,
          22,
          24,
          26,
          28,
          30,
          32,
          34
         ],
         "y": [
          0.013715384615384617,
          0.008438461538461539,
          0.01363076923076923,
          0.008838461538461538,
          0.005805128205128205,
          0.011338461538461539,
          0.009825641025641027,
          0.00711025641025641,
          0.014133333333333335,
          0.010064102564102565,
          0.005592307692307692,
          0.006233333333333334,
          0.006312820512820513
         ]
        }
       ],
       "layout": {
        "bargap": 0.4,
        "font": {
         "size": 18
        },
        "height": 500,
        "template": {
         "data": {
          "bar": [
           {
            "error_x": {
             "color": "#2a3f5f"
            },
            "error_y": {
             "color": "#2a3f5f"
            },
            "marker": {
             "line": {
              "color": "#E5ECF6",
              "width": 0.5
             },
             "pattern": {
              "fillmode": "overlay",
              "size": 10,
              "solidity": 0.2
             }
            },
            "type": "bar"
           }
          ],
          "barpolar": [
           {
            "marker": {
             "line": {
              "color": "#E5ECF6",
              "width": 0.5
             },
             "pattern": {
              "fillmode": "overlay",
              "size": 10,
              "solidity": 0.2
             }
            },
            "type": "barpolar"
           }
          ],
          "carpet": [
           {
            "aaxis": {
             "endlinecolor": "#2a3f5f",
             "gridcolor": "white",
             "linecolor": "white",
             "minorgridcolor": "white",
             "startlinecolor": "#2a3f5f"
            },
            "baxis": {
             "endlinecolor": "#2a3f5f",
             "gridcolor": "white",
             "linecolor": "white",
             "minorgridcolor": "white",
             "startlinecolor": "#2a3f5f"
            },
            "type": "carpet"
           }
          ],
          "choropleth": [
           {
            "colorbar": {
             "outlinewidth": 0,
             "ticks": ""
            },
            "type": "choropleth"
           }
          ],
          "contour": [
           {
            "colorbar": {
             "outlinewidth": 0,
             "ticks": ""
            },
            "colorscale": [
             [
              0,
              "#0d0887"
             ],
             [
              0.1111111111111111,
              "#46039f"
             ],
             [
              0.2222222222222222,
              "#7201a8"
             ],
             [
              0.3333333333333333,
              "#9c179e"
             ],
             [
              0.4444444444444444,
              "#bd3786"
             ],
             [
              0.5555555555555556,
              "#d8576b"
             ],
             [
              0.6666666666666666,
              "#ed7953"
             ],
             [
              0.7777777777777778,
              "#fb9f3a"
             ],
             [
              0.8888888888888888,
              "#fdca26"
             ],
             [
              1,
              "#f0f921"
             ]
            ],
            "type": "contour"
           }
          ],
          "contourcarpet": [
           {
            "colorbar": {
             "outlinewidth": 0,
             "ticks": ""
            },
            "type": "contourcarpet"
           }
          ],
          "heatmap": [
           {
            "colorbar": {
             "outlinewidth": 0,
             "ticks": ""
            },
            "colorscale": [
             [
              0,
              "#0d0887"
             ],
             [
              0.1111111111111111,
              "#46039f"
             ],
             [
              0.2222222222222222,
              "#7201a8"
             ],
             [
              0.3333333333333333,
              "#9c179e"
             ],
             [
              0.4444444444444444,
              "#bd3786"
             ],
             [
              0.5555555555555556,
              "#d8576b"
             ],
             [
              0.6666666666666666,
              "#ed7953"
             ],
             [
              0.7777777777777778,
              "#fb9f3a"
             ],
             [
              0.8888888888888888,
              "#fdca26"
             ],
             [
              1,
              "#f0f921"
             ]
            ],
            "type": "heatmap"
           }
          ],
          "heatmapgl": [
           {
            "colorbar": {
             "outlinewidth": 0,
             "ticks": ""
            },
            "colorscale": [
             [
              0,
              "#0d0887"
             ],
             [
              0.1111111111111111,
              "#46039f"
             ],
             [
              0.2222222222222222,
              "#7201a8"
             ],
             [
              0.3333333333333333,
              "#9c179e"
             ],
             [
              0.4444444444444444,
              "#bd3786"
             ],
             [
              0.5555555555555556,
              "#d8576b"
             ],
             [
              0.6666666666666666,
              "#ed7953"
             ],
             [
              0.7777777777777778,
              "#fb9f3a"
             ],
             [
              0.8888888888888888,
              "#fdca26"
             ],
             [
              1,
              "#f0f921"
             ]
            ],
            "type": "heatmapgl"
           }
          ],
          "histogram": [
           {
            "marker": {
             "pattern": {
              "fillmode": "overlay",
              "size": 10,
              "solidity": 0.2
             }
            },
            "type": "histogram"
           }
          ],
          "histogram2d": [
           {
            "colorbar": {
             "outlinewidth": 0,
             "ticks": ""
            },
            "colorscale": [
             [
              0,
              "#0d0887"
             ],
             [
              0.1111111111111111,
              "#46039f"
             ],
             [
              0.2222222222222222,
              "#7201a8"
             ],
             [
              0.3333333333333333,
              "#9c179e"
             ],
             [
              0.4444444444444444,
              "#bd3786"
             ],
             [
              0.5555555555555556,
              "#d8576b"
             ],
             [
              0.6666666666666666,
              "#ed7953"
             ],
             [
              0.7777777777777778,
              "#fb9f3a"
             ],
             [
              0.8888888888888888,
              "#fdca26"
             ],
             [
              1,
              "#f0f921"
             ]
            ],
            "type": "histogram2d"
           }
          ],
          "histogram2dcontour": [
           {
            "colorbar": {
             "outlinewidth": 0,
             "ticks": ""
            },
            "colorscale": [
             [
              0,
              "#0d0887"
             ],
             [
              0.1111111111111111,
              "#46039f"
             ],
             [
              0.2222222222222222,
              "#7201a8"
             ],
             [
              0.3333333333333333,
              "#9c179e"
             ],
             [
              0.4444444444444444,
              "#bd3786"
             ],
             [
              0.5555555555555556,
              "#d8576b"
             ],
             [
              0.6666666666666666,
              "#ed7953"
             ],
             [
              0.7777777777777778,
              "#fb9f3a"
             ],
             [
              0.8888888888888888,
              "#fdca26"
             ],
             [
              1,
              "#f0f921"
             ]
            ],
            "type": "histogram2dcontour"
           }
          ],
          "mesh3d": [
           {
            "colorbar": {
             "outlinewidth": 0,
             "ticks": ""
            },
            "type": "mesh3d"
           }
          ],
          "parcoords": [
           {
            "line": {
             "colorbar": {
              "outlinewidth": 0,
              "ticks": ""
             }
            },
            "type": "parcoords"
           }
          ],
          "pie": [
           {
            "automargin": true,
            "type": "pie"
           }
          ],
          "scatter": [
           {
            "fillpattern": {
             "fillmode": "overlay",
             "size": 10,
             "solidity": 0.2
            },
            "type": "scatter"
           }
          ],
          "scatter3d": [
           {
            "line": {
             "colorbar": {
              "outlinewidth": 0,
              "ticks": ""
             }
            },
            "marker": {
             "colorbar": {
              "outlinewidth": 0,
              "ticks": ""
             }
            },
            "type": "scatter3d"
           }
          ],
          "scattercarpet": [
           {
            "marker": {
             "colorbar": {
              "outlinewidth": 0,
              "ticks": ""
             }
            },
            "type": "scattercarpet"
           }
          ],
          "scattergeo": [
           {
            "marker": {
             "colorbar": {
              "outlinewidth": 0,
              "ticks": ""
             }
            },
            "type": "scattergeo"
           }
          ],
          "scattergl": [
           {
            "marker": {
             "colorbar": {
              "outlinewidth": 0,
              "ticks": ""
             }
            },
            "type": "scattergl"
           }
          ],
          "scattermapbox": [
           {
            "marker": {
             "colorbar": {
              "outlinewidth": 0,
              "ticks": ""
             }
            },
            "type": "scattermapbox"
           }
          ],
          "scatterpolar": [
           {
            "marker": {
             "colorbar": {
              "outlinewidth": 0,
              "ticks": ""
             }
            },
            "type": "scatterpolar"
           }
          ],
          "scatterpolargl": [
           {
            "marker": {
             "colorbar": {
              "outlinewidth": 0,
              "ticks": ""
             }
            },
            "type": "scatterpolargl"
           }
          ],
          "scatterternary": [
           {
            "marker": {
             "colorbar": {
              "outlinewidth": 0,
              "ticks": ""
             }
            },
            "type": "scatterternary"
           }
          ],
          "surface": [
           {
            "colorbar": {
             "outlinewidth": 0,
             "ticks": ""
            },
            "colorscale": [
             [
              0,
              "#0d0887"
             ],
             [
              0.1111111111111111,
              "#46039f"
             ],
             [
              0.2222222222222222,
              "#7201a8"
             ],
             [
              0.3333333333333333,
              "#9c179e"
             ],
             [
              0.4444444444444444,
              "#bd3786"
             ],
             [
              0.5555555555555556,
              "#d8576b"
             ],
             [
              0.6666666666666666,
              "#ed7953"
             ],
             [
              0.7777777777777778,
              "#fb9f3a"
             ],
             [
              0.8888888888888888,
              "#fdca26"
             ],
             [
              1,
              "#f0f921"
             ]
            ],
            "type": "surface"
           }
          ],
          "table": [
           {
            "cells": {
             "fill": {
              "color": "#EBF0F8"
             },
             "line": {
              "color": "white"
             }
            },
            "header": {
             "fill": {
              "color": "#C8D4E3"
             },
             "line": {
              "color": "white"
             }
            },
            "type": "table"
           }
          ]
         },
         "layout": {
          "annotationdefaults": {
           "arrowcolor": "#2a3f5f",
           "arrowhead": 0,
           "arrowwidth": 1
          },
          "autotypenumbers": "strict",
          "coloraxis": {
           "colorbar": {
            "outlinewidth": 0,
            "ticks": ""
           }
          },
          "colorscale": {
           "diverging": [
            [
             0,
             "#8e0152"
            ],
            [
             0.1,
             "#c51b7d"
            ],
            [
             0.2,
             "#de77ae"
            ],
            [
             0.3,
             "#f1b6da"
            ],
            [
             0.4,
             "#fde0ef"
            ],
            [
             0.5,
             "#f7f7f7"
            ],
            [
             0.6,
             "#e6f5d0"
            ],
            [
             0.7,
             "#b8e186"
            ],
            [
             0.8,
             "#7fbc41"
            ],
            [
             0.9,
             "#4d9221"
            ],
            [
             1,
             "#276419"
            ]
           ],
           "sequential": [
            [
             0,
             "#0d0887"
            ],
            [
             0.1111111111111111,
             "#46039f"
            ],
            [
             0.2222222222222222,
             "#7201a8"
            ],
            [
             0.3333333333333333,
             "#9c179e"
            ],
            [
             0.4444444444444444,
             "#bd3786"
            ],
            [
             0.5555555555555556,
             "#d8576b"
            ],
            [
             0.6666666666666666,
             "#ed7953"
            ],
            [
             0.7777777777777778,
             "#fb9f3a"
            ],
            [
             0.8888888888888888,
             "#fdca26"
            ],
            [
             1,
             "#f0f921"
            ]
           ],
           "sequentialminus": [
            [
             0,
             "#0d0887"
            ],
            [
             0.1111111111111111,
             "#46039f"
            ],
            [
             0.2222222222222222,
             "#7201a8"
            ],
            [
             0.3333333333333333,
             "#9c179e"
            ],
            [
             0.4444444444444444,
             "#bd3786"
            ],
            [
             0.5555555555555556,
             "#d8576b"
            ],
            [
             0.6666666666666666,
             "#ed7953"
            ],
            [
             0.7777777777777778,
             "#fb9f3a"
            ],
            [
             0.8888888888888888,
             "#fdca26"
            ],
            [
             1,
             "#f0f921"
            ]
           ]
          },
          "colorway": [
           "#636efa",
           "#EF553B",
           "#00cc96",
           "#ab63fa",
           "#FFA15A",
           "#19d3f3",
           "#FF6692",
           "#B6E880",
           "#FF97FF",
           "#FECB52"
          ],
          "font": {
           "color": "#2a3f5f"
          },
          "geo": {
           "bgcolor": "white",
           "lakecolor": "white",
           "landcolor": "#E5ECF6",
           "showlakes": true,
           "showland": true,
           "subunitcolor": "white"
          },
          "hoverlabel": {
           "align": "left"
          },
          "hovermode": "closest",
          "mapbox": {
           "style": "light"
          },
          "paper_bgcolor": "white",
          "plot_bgcolor": "#E5ECF6",
          "polar": {
           "angularaxis": {
            "gridcolor": "white",
            "linecolor": "white",
            "ticks": ""
           },
           "bgcolor": "#E5ECF6",
           "radialaxis": {
            "gridcolor": "white",
            "linecolor": "white",
            "ticks": ""
           }
          },
          "scene": {
           "xaxis": {
            "backgroundcolor": "#E5ECF6",
            "gridcolor": "white",
            "gridwidth": 2,
            "linecolor": "white",
            "showbackground": true,
            "ticks": "",
            "zerolinecolor": "white"
           },
           "yaxis": {
            "backgroundcolor": "#E5ECF6",
            "gridcolor": "white",
            "gridwidth": 2,
            "linecolor": "white",
            "showbackground": true,
            "ticks": "",
            "zerolinecolor": "white"
           },
           "zaxis": {
            "backgroundcolor": "#E5ECF6",
            "gridcolor": "white",
            "gridwidth": 2,
            "linecolor": "white",
            "showbackground": true,
            "ticks": "",
            "zerolinecolor": "white"
           }
          },
          "shapedefaults": {
           "line": {
            "color": "#2a3f5f"
           }
          },
          "ternary": {
           "aaxis": {
            "gridcolor": "white",
            "linecolor": "white",
            "ticks": ""
           },
           "baxis": {
            "gridcolor": "white",
            "linecolor": "white",
            "ticks": ""
           },
           "bgcolor": "#E5ECF6",
           "caxis": {
            "gridcolor": "white",
            "linecolor": "white",
            "ticks": ""
           }
          },
          "title": {
           "x": 0.05
          },
          "xaxis": {
           "automargin": true,
           "gridcolor": "white",
           "linecolor": "white",
           "ticks": "",
           "title": {
            "standoff": 15
           },
           "zerolinecolor": "white",
           "zerolinewidth": 2
          },
          "yaxis": {
           "automargin": true,
           "gridcolor": "white",
           "linecolor": "white",
           "ticks": "",
           "title": {
            "standoff": 15
           },
           "zerolinecolor": "white",
           "zerolinewidth": 2
          }
         }
        },
        "title": {
         "text": "Mean Accuracy by Font Size"
        },
        "width": 1500,
        "xaxis": {
         "ticktext": [
          10,
          10,
          10,
          12,
          12,
          12,
          14,
          14,
          14,
          16,
          16,
          16,
          18,
          18,
          18,
          20,
          20,
          20,
          22,
          22,
          22,
          24,
          24,
          24,
          26,
          26,
          26,
          28,
          28,
          28,
          30,
          30,
          30,
          32,
          32,
          32,
          34,
          34,
          34
         ],
         "tickvals": [
          10,
          10,
          10,
          12,
          12,
          12,
          14,
          14,
          14,
          16,
          16,
          16,
          18,
          18,
          18,
          20,
          20,
          20,
          22,
          22,
          22,
          24,
          24,
          24,
          26,
          26,
          26,
          28,
          28,
          28,
          30,
          30,
          30,
          32,
          32,
          32,
          34,
          34,
          34
         ],
         "title": {
          "text": "Font Size"
         }
        },
        "yaxis": {
         "range": [
          0,
          1
         ],
         "title": {
          "text": "Mean Accuracy"
         }
        }
       }
      }
     },
     "metadata": {},
     "output_type": "display_data"
    }
   ],
   "source": [
    "grouped_df = df.groupby(['font_size', 'underlined', 'striked'])['accuracy'].mean().reset_index()\n",
    "\n",
    "fig = go.Figure()\n",
    "\n",
    "fig.add_trace(go.Bar(\n",
    "    x=grouped_df[(grouped_df['underlined'] == False) & (grouped_df['striked'] == False)]['font_size'],\n",
    "    y=grouped_df[(grouped_df['underlined'] == False) & (grouped_df['striked'] == False)]['accuracy'],\n",
    "    text=grouped_df[(grouped_df['underlined'] == False) & (grouped_df['striked'] == False)]['accuracy'].round(2),\n",
    "    name='Regular',\n",
    "    textfont=dict(size=18),\n",
    "    marker_color='lightsalmon'\n",
    "))\n",
    "\n",
    "fig.add_trace(go.Bar(\n",
    "    x=grouped_df[(grouped_df['underlined'] == True) & (grouped_df['striked'] == False)]['font_size'],\n",
    "    y=grouped_df[(grouped_df['underlined'] == True) & (grouped_df['striked'] == False)]['accuracy'],\n",
    "    text=grouped_df[(grouped_df['underlined'] == True) & (grouped_df['striked'] == False)]['accuracy'].round(2),\n",
    "    name='Underlined',\n",
    "    textfont=dict(size=18),\n",
    "    marker_color='indianred'\n",
    "))\n",
    "\n",
    "fig.add_trace(go.Bar(\n",
    "    x=grouped_df[(grouped_df['striked'] == True) & (grouped_df['underlined'] == False)]['font_size'],\n",
    "    y=grouped_df[(grouped_df['striked'] == True) & (grouped_df['underlined'] == False)]['accuracy'],\n",
    "    text=grouped_df[(grouped_df['striked'] == True) & (grouped_df['underlined'] == False)]['accuracy'].round(2),\n",
    "    name='Striked',\n",
    "    textfont=dict(size=18),\n",
    "    marker_color='goldenrod'\n",
    "))\n",
    "\n",
    "fig.update_layout(title='Mean Accuracy by Font Size',\n",
    "                  xaxis=dict(title='Font Size', tickvals=grouped_df['font_size'], ticktext=grouped_df['font_size']),\n",
    "                  yaxis=dict(title='Mean Accuracy'),\n",
    "                  font=dict(size=18),\n",
    "                  bargap=0.4,\n",
    "                  height=500,\n",
    "                  width=1500)\n",
    "\n",
    "fig.update_yaxes(range=[0, 1]) \n",
    "pio.write_image(fig, os.path.join('plots', 'accuracy_by_font-size.png'), scale=6)\n",
    "fig.show()"
   ]
  },
  {
   "cell_type": "code",
   "execution_count": 5,
   "metadata": {},
   "outputs": [],
   "source": [
    "for vox_atypi in df['vox_atypl'].unique():\n",
    "    filtered_df = df[df['vox_atypl'] == vox_atypi]\n",
    "    \n",
    "    grouped_df = filtered_df.groupby(['font_size', 'underlined', 'striked'])['accuracy'].mean().reset_index()\n",
    "\n",
    "    fig = go.Figure()\n",
    "\n",
    "    fig.add_trace(go.Bar(\n",
    "        y=grouped_df[(grouped_df['underlined'] == False) & (grouped_df['striked'] == False)]['font_size'],\n",
    "        x=grouped_df[(grouped_df['underlined'] == False) & (grouped_df['striked'] == False)]['accuracy'],\n",
    "        text=grouped_df[(grouped_df['underlined'] == False) & (grouped_df['striked'] == False)]['accuracy'].round(2),\n",
    "        name='Regular',\n",
    "        textfont=dict(size=16),\n",
    "        marker_color='chartreuse',\n",
    "        orientation='h'\n",
    "    ))\n",
    "\n",
    "    fig.add_trace(go.Bar(\n",
    "        y=grouped_df[(grouped_df['underlined'] == True) & (grouped_df['striked'] == False)]['font_size'],\n",
    "        x=grouped_df[(grouped_df['underlined'] == True) & (grouped_df['striked'] == False)]['accuracy'],\n",
    "        text=grouped_df[(grouped_df['underlined'] == True) & (grouped_df['striked'] == False)]['accuracy'].round(2),\n",
    "        name='Underlined',\n",
    "        textfont=dict(size=16),\n",
    "        marker_color='cyan',\n",
    "        orientation='h'\n",
    "    ))\n",
    "\n",
    "    fig.add_trace(go.Bar(\n",
    "        y=grouped_df[(grouped_df['striked'] == True) & (grouped_df['underlined'] == False)]['font_size'],\n",
    "        x=grouped_df[(grouped_df['striked'] == True) & (grouped_df['underlined'] == False)]['accuracy'],\n",
    "        text=grouped_df[(grouped_df['striked'] == True) & (grouped_df['underlined'] == False)]['accuracy'].round(2),\n",
    "        name='Striked',\n",
    "        textfont=dict(size=16),\n",
    "        marker_color='firebrick',\n",
    "        orientation='h'\n",
    "    ))\n",
    "\n",
    "    fig.update_layout(title=f'{vox_atypi.capitalize()}',\n",
    "                    yaxis=dict(title='Font Size', tickvals=grouped_df['font_size'], ticktext=grouped_df['font_size']), # updating y-axis\n",
    "                    xaxis=dict(title='Mean Accuracy'), # updating x-axis\n",
    "                    font=dict(size=16),\n",
    "                    legend=dict(\n",
    "                        orientation=\"h\",\n",
    "                        yanchor=\"top\",\n",
    "                        y=1.05,\n",
    "                        xanchor=\"center\",\n",
    "                        x=0.5\n",
    "                    ),\n",
    "                    bargap=0.2,\n",
    "                    height=1000,\n",
    "                    width=500)\n",
    "\n",
    "    fig.update_xaxes(range=[0, 1.05])\n",
    "    pio.write_image(fig, os.path.join('plots', 'by_vox', f'{vox_atypi}_accuracy_by_font-size.png'), scale=6)\n"
   ]
  },
  {
   "cell_type": "code",
   "execution_count": 6,
   "metadata": {},
   "outputs": [],
   "source": [
    "for font_name in df['font_name'].unique():\n",
    "    filtered_df = df[df['font_name'] == font_name]\n",
    "    \n",
    "    grouped_df = filtered_df.groupby(['font_size', 'underlined', 'striked'])['accuracy'].mean().reset_index()\n",
    "\n",
    "    fig = go.Figure()\n",
    "\n",
    "    fig.add_trace(go.Bar(\n",
    "        y=grouped_df[(grouped_df['underlined'] == False) & (grouped_df['striked'] == False)]['font_size'],\n",
    "        x=grouped_df[(grouped_df['underlined'] == False) & (grouped_df['striked'] == False)]['accuracy'],\n",
    "        text=grouped_df[(grouped_df['underlined'] == False) & (grouped_df['striked'] == False)]['accuracy'].round(2),\n",
    "        name='Regular',\n",
    "        textfont=dict(size=16),\n",
    "        marker_color='chartreuse',\n",
    "        orientation='h'\n",
    "    ))\n",
    "    \n",
    "    fig.add_trace(go.Bar(\n",
    "        y=grouped_df[(grouped_df['underlined'] == True) & (grouped_df['striked'] == False)]['font_size'],\n",
    "        x=grouped_df[(grouped_df['underlined'] == True) & (grouped_df['striked'] == False)]['accuracy'],\n",
    "        text=grouped_df[(grouped_df['underlined'] == True) & (grouped_df['striked'] == False)]['accuracy'].round(2),\n",
    "        name='Underlined',\n",
    "        textfont=dict(size=16),\n",
    "        marker_color='cyan',\n",
    "        orientation='h'\n",
    "    ))\n",
    "\n",
    "    fig.add_trace(go.Bar(\n",
    "        y=grouped_df[(grouped_df['striked'] == True) & (grouped_df['underlined'] == False)]['font_size'],\n",
    "        x=grouped_df[(grouped_df['striked'] == True) & (grouped_df['underlined'] == False)]['accuracy'],\n",
    "        text=grouped_df[(grouped_df['striked'] == True) & (grouped_df['underlined'] == False)]['accuracy'].round(2),\n",
    "        name='Striked',\n",
    "        textfont=dict(size=16),\n",
    "        marker_color='firebrick',\n",
    "        orientation='h'\n",
    "    ))\n",
    "    \n",
    "    fig.update_layout(title=font_name,\n",
    "                    yaxis=dict(title='Font Size', tickvals=grouped_df['font_size'], ticktext=grouped_df['font_size']), # updating y-axis\n",
    "                    xaxis=dict(title='Mean Accuracy'), # updating x-axis\n",
    "                    font=dict(size=16),\n",
    "                    legend=dict(\n",
    "                        orientation=\"h\",\n",
    "                        yanchor=\"top\",\n",
    "                        y=1.05,\n",
    "                        xanchor=\"center\",\n",
    "                        x=0.5\n",
    "                    ),\n",
    "                    bargap=0.2,\n",
    "                    height=1000,\n",
    "                    width=500)\n",
    "\n",
    "    fig.update_xaxes(range=[0, 1.05])\n",
    "    pio.write_image(fig, os.path.join('plots', 'by_font_name', f'{font_name}_accuracy_by_font-size.png'), scale=6)"
   ]
  },
  {
   "cell_type": "markdown",
   "metadata": {},
   "source": [
    "Vertical"
   ]
  },
  {
   "cell_type": "code",
   "execution_count": 32,
   "metadata": {},
   "outputs": [],
   "source": [
    "for vox_atypi in df['vox_atypl'].unique():\n",
    "    filtered_df = df[df['vox_atypl'] == vox_atypi]\n",
    "    \n",
    "    grouped_df = filtered_df.groupby(['font_size', 'underlined', 'striked'])['accuracy'].mean().reset_index()\n",
    "\n",
    "    fig = go.Figure()\n",
    "\n",
    "    fig.add_trace(go.Bar(\n",
    "        x=grouped_df[(grouped_df['underlined'] == False) & (grouped_df['striked'] == False)]['font_size'],\n",
    "        y=grouped_df[(grouped_df['underlined'] == False) & (grouped_df['striked'] == False)]['accuracy'],\n",
    "        text=grouped_df[(grouped_df['underlined'] == False) & (grouped_df['striked'] == False)]['accuracy'].round(2),\n",
    "        textposition='outside',\n",
    "        textangle=270,\n",
    "        textfont=dict(size=10),\n",
    "        name='Regular',\n",
    "        marker_color='chartreuse'\n",
    "    ))\n",
    "\n",
    "    fig.add_trace(go.Bar(\n",
    "        x=grouped_df[(grouped_df['underlined'] == True) & (grouped_df['striked'] == False)]['font_size'],\n",
    "        y=grouped_df[(grouped_df['underlined'] == True) & (grouped_df['striked'] == False)]['accuracy'],\n",
    "        text=grouped_df[(grouped_df['underlined'] == True) & (grouped_df['striked'] == False)]['accuracy'].round(2),\n",
    "        textposition='outside',\n",
    "        textangle=270,\n",
    "        textfont=dict(size=10),\n",
    "        name='Underlined',\n",
    "        marker_color='cyan'\n",
    "    ))\n",
    "\n",
    "    fig.add_trace(go.Bar(\n",
    "        x=grouped_df[(grouped_df['striked'] == True) & (grouped_df['underlined'] == False)]['font_size'],\n",
    "        y=grouped_df[(grouped_df['striked'] == True) & (grouped_df['underlined'] == False)]['accuracy'],\n",
    "        text=grouped_df[(grouped_df['striked'] == True) & (grouped_df['underlined'] == False)]['accuracy'].round(2),\n",
    "        textposition='outside',\n",
    "        textangle=270,\n",
    "        textfont=dict(size=10),\n",
    "        name='Striked',\n",
    "        marker_color='firebrick'\n",
    "    ))\n",
    "\n",
    "    fig.update_layout(title=f'{vox_atypi.capitalize()}',\n",
    "                    xaxis=dict(title='Font Size', tickvals=grouped_df['font_size'], ticktext=grouped_df['font_size']), # updating x-axis\n",
    "                    yaxis=dict(title='Mean Accuracy'), # updating y-axis\n",
    "                    font=dict(size=16),\n",
    "                    legend=dict(\n",
    "                        orientation=\"h\",\n",
    "                        yanchor=\"top\",\n",
    "                        y=1.15,\n",
    "                        xanchor=\"center\",\n",
    "                        x=0.5\n",
    "                    ),\n",
    "                    bargap=0.2,\n",
    "                    height=500,\n",
    "                    width=1000)\n",
    "\n",
    "    fig.update_yaxes(range=[0, 1.05])\n",
    "    pio.write_image(fig, os.path.join('plots', 'by_vox', f'{vox_atypi}_accuracy_by_font-size.png'), scale=6)\n",
    "\n"
   ]
  },
  {
   "cell_type": "code",
   "execution_count": 34,
   "metadata": {},
   "outputs": [],
   "source": [
    "for font_name in df['font_name'].unique():\n",
    "    filtered_df = df[df['font_name'] == font_name]\n",
    "    \n",
    "    grouped_df = filtered_df.groupby(['font_size', 'underlined', 'striked'])['accuracy'].mean().reset_index()\n",
    "\n",
    "    fig = go.Figure()\n",
    "\n",
    "    fig.add_trace(go.Bar(\n",
    "        x=grouped_df[(grouped_df['underlined'] == False) & (grouped_df['striked'] == False)]['font_size'],\n",
    "        y=grouped_df[(grouped_df['underlined'] == False) & (grouped_df['striked'] == False)]['accuracy'],\n",
    "        text=grouped_df[(grouped_df['underlined'] == False) & (grouped_df['striked'] == False)]['accuracy'].round(2),\n",
    "        textposition='outside',\n",
    "        textangle=270,\n",
    "        textfont=dict(size=10),\n",
    "        name='Regular',\n",
    "        marker_color='chartreuse'\n",
    "    ))\n",
    "    \n",
    "    fig.add_trace(go.Bar(\n",
    "        x=grouped_df[(grouped_df['underlined'] == True) & (grouped_df['striked'] == False)]['font_size'],\n",
    "        y=grouped_df[(grouped_df['underlined'] == True) & (grouped_df['striked'] == False)]['accuracy'],\n",
    "        text=grouped_df[(grouped_df['underlined'] == True) & (grouped_df['striked'] == False)]['accuracy'].round(2),\n",
    "        textposition='outside',\n",
    "        textangle=270,\n",
    "        textfont=dict(size=10),\n",
    "        name='Underlined',\n",
    "        marker_color='cyan'\n",
    "    ))\n",
    "\n",
    "    fig.add_trace(go.Bar(\n",
    "        x=grouped_df[(grouped_df['striked'] == True) & (grouped_df['underlined'] == False)]['font_size'],\n",
    "        y=grouped_df[(grouped_df['striked'] == True) & (grouped_df['underlined'] == False)]['accuracy'],\n",
    "        text=grouped_df[(grouped_df['striked'] == True) & (grouped_df['underlined'] == False)]['accuracy'].round(2),\n",
    "        textposition='outside',\n",
    "        textangle=270,\n",
    "        textfont=dict(size=10),\n",
    "        name='Striked',\n",
    "        marker_color='firebrick'\n",
    "    ))\n",
    "    \n",
    "    fig.update_layout(title=font_name,\n",
    "                    xaxis=dict(title='Font Size', tickvals=grouped_df['font_size'], ticktext=grouped_df['font_size']), # updating x-axis\n",
    "                    yaxis=dict(title='Mean Accuracy'), # updating y-axis\n",
    "                    font=dict(size=16),\n",
    "                    legend=dict(\n",
    "                        orientation=\"h\",\n",
    "                        yanchor=\"top\",\n",
    "                        y=1.15,\n",
    "                        xanchor=\"center\",\n",
    "                        x=0.5\n",
    "                    ),\n",
    "                    bargap=0.2,\n",
    "                    height=500,\n",
    "                    width=1000)\n",
    "\n",
    "    fig.update_yaxes(range=[0, 1.05])\n",
    "    pio.write_image(fig, os.path.join('plots', 'by_font_name', f'{font_name}_accuracy_by_font-size.png'), scale=6)\n",
    "\n"
   ]
  }
 ],
 "metadata": {
  "kernelspec": {
   "display_name": ".venv",
   "language": "python",
   "name": "python3"
  },
  "language_info": {
   "codemirror_mode": {
    "name": "ipython",
    "version": 3
   },
   "file_extension": ".py",
   "mimetype": "text/x-python",
   "name": "python",
   "nbconvert_exporter": "python",
   "pygments_lexer": "ipython3",
   "version": "3.10.12"
  }
 },
 "nbformat": 4,
 "nbformat_minor": 2
}
