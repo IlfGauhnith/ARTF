{
 "cells": [
  {
   "cell_type": "code",
   "execution_count": 13,
   "metadata": {},
   "outputs": [
    {
     "name": "stdout",
     "output_type": "stream",
     "text": [
      "Defaulting to user installation because normal site-packages is not writeable\n",
      "Collecting kaleido\n",
      "  Downloading kaleido-0.2.1-py2.py3-none-win_amd64.whl.metadata (15 kB)\n",
      "Downloading kaleido-0.2.1-py2.py3-none-win_amd64.whl (65.9 MB)\n",
      "   ---------------------------------------- 0.0/65.9 MB ? eta -:--:--\n",
      "   ---------------------------------------- 0.0/65.9 MB 1.9 MB/s eta 0:00:35\n",
      "   ---------------------------------------- 0.4/65.9 MB 6.7 MB/s eta 0:00:10\n",
      "    --------------------------------------- 1.2/65.9 MB 12.4 MB/s eta 0:00:06\n",
      "   - -------------------------------------- 2.1/65.9 MB 13.6 MB/s eta 0:00:05\n",
      "   - -------------------------------------- 3.3/65.9 MB 16.1 MB/s eta 0:00:04\n",
      "   -- ------------------------------------- 4.7/65.9 MB 18.6 MB/s eta 0:00:04\n",
      "   --- ------------------------------------ 6.4/65.9 MB 21.4 MB/s eta 0:00:03\n",
      "   ----- ---------------------------------- 8.3/65.9 MB 23.2 MB/s eta 0:00:03\n",
      "   ------ --------------------------------- 10.7/65.9 MB 29.8 MB/s eta 0:00:02\n",
      "   ------- -------------------------------- 12.5/65.9 MB 36.3 MB/s eta 0:00:02\n",
      "   -------- ------------------------------- 14.6/65.9 MB 40.9 MB/s eta 0:00:02\n",
      "   --------- ------------------------------ 16.5/65.9 MB 38.5 MB/s eta 0:00:02\n",
      "   ---------- ----------------------------- 17.8/65.9 MB 38.5 MB/s eta 0:00:02\n",
      "   ----------- ---------------------------- 19.6/65.9 MB 38.5 MB/s eta 0:00:02\n",
      "   ------------ --------------------------- 21.4/65.9 MB 36.3 MB/s eta 0:00:02\n",
      "   -------------- ------------------------- 23.3/65.9 MB 38.6 MB/s eta 0:00:02\n",
      "   --------------- ------------------------ 25.1/65.9 MB 38.6 MB/s eta 0:00:02\n",
      "   ---------------- ----------------------- 27.0/65.9 MB 36.4 MB/s eta 0:00:02\n",
      "   ----------------- ---------------------- 28.9/65.9 MB 36.3 MB/s eta 0:00:02\n",
      "   ------------------ --------------------- 30.2/65.9 MB 36.4 MB/s eta 0:00:01\n",
      "   ------------------- -------------------- 32.0/65.9 MB 38.5 MB/s eta 0:00:01\n",
      "   -------------------- ------------------- 33.9/65.9 MB 38.5 MB/s eta 0:00:01\n",
      "   --------------------- ------------------ 35.2/65.9 MB 36.3 MB/s eta 0:00:01\n",
      "   ---------------------- ----------------- 37.0/65.9 MB 36.4 MB/s eta 0:00:01\n",
      "   ----------------------- ---------------- 38.9/65.9 MB 36.4 MB/s eta 0:00:01\n",
      "   ------------------------ --------------- 40.7/65.9 MB 38.6 MB/s eta 0:00:01\n",
      "   ------------------------- -------------- 42.0/65.9 MB 34.4 MB/s eta 0:00:01\n",
      "   -------------------------- ------------- 43.8/65.9 MB 36.4 MB/s eta 0:00:01\n",
      "   --------------------------- ------------ 45.7/65.9 MB 36.4 MB/s eta 0:00:01\n",
      "   ---------------------------- ----------- 47.5/65.9 MB 36.3 MB/s eta 0:00:01\n",
      "   ----------------------------- ---------- 49.4/65.9 MB 36.3 MB/s eta 0:00:01\n",
      "   ------------------------------- -------- 51.3/65.9 MB 38.6 MB/s eta 0:00:01\n",
      "   ------------------------------- -------- 52.6/65.9 MB 36.4 MB/s eta 0:00:01\n",
      "   --------------------------------- ------ 54.4/65.9 MB 38.5 MB/s eta 0:00:01\n",
      "   ---------------------------------- ----- 56.2/65.9 MB 36.4 MB/s eta 0:00:01\n",
      "   ----------------------------------- ---- 58.1/65.9 MB 36.4 MB/s eta 0:00:01\n",
      "   ------------------------------------ --- 60.0/65.9 MB 38.5 MB/s eta 0:00:01\n",
      "   ------------------------------------- -- 61.8/65.9 MB 38.5 MB/s eta 0:00:01\n",
      "   -------------------------------------- - 63.7/65.9 MB 36.4 MB/s eta 0:00:01\n",
      "   ---------------------------------------  65.6/65.9 MB 36.4 MB/s eta 0:00:01\n",
      "   ---------------------------------------  65.9/65.9 MB 36.3 MB/s eta 0:00:01\n",
      "   ---------------------------------------  65.9/65.9 MB 36.3 MB/s eta 0:00:01\n",
      "   ---------------------------------------  65.9/65.9 MB 36.3 MB/s eta 0:00:01\n",
      "   ---------------------------------------  65.9/65.9 MB 36.3 MB/s eta 0:00:01\n",
      "   ---------------------------------------- 65.9/65.9 MB 21.8 MB/s eta 0:00:00\n",
      "Installing collected packages: kaleido\n",
      "Successfully installed kaleido-0.2.1\n"
     ]
    }
   ],
   "source": [
    "!pip install -U kaleido"
   ]
  },
  {
   "cell_type": "code",
   "execution_count": 3,
   "metadata": {},
   "outputs": [],
   "source": [
    "import pandas as pd\n",
    "import plotly.express as px\n",
    "import numpy as np\n",
    "import plotly.graph_objs as go\n",
    "\n",
    "import matplotlib.pyplot as plt\n",
    "import os\n",
    "%matplotlib inline  \n",
    "import plotly.io as pio"
   ]
  },
  {
   "cell_type": "markdown",
   "metadata": {},
   "source": [
    "# vox only EDA"
   ]
  },
  {
   "cell_type": "code",
   "execution_count": 2,
   "metadata": {},
   "outputs": [
    {
     "data": {
      "text/html": [
       "<div>\n",
       "<style scoped>\n",
       "    .dataframe tbody tr th:only-of-type {\n",
       "        vertical-align: middle;\n",
       "    }\n",
       "\n",
       "    .dataframe tbody tr th {\n",
       "        vertical-align: top;\n",
       "    }\n",
       "\n",
       "    .dataframe thead th {\n",
       "        text-align: right;\n",
       "    }\n",
       "</style>\n",
       "<table border=\"1\" class=\"dataframe\">\n",
       "  <thead>\n",
       "    <tr style=\"text-align: right;\">\n",
       "      <th></th>\n",
       "      <th>font_name</th>\n",
       "      <th>accuracy</th>\n",
       "      <th>font_size</th>\n",
       "      <th>vox_atypl</th>\n",
       "      <th>underlined</th>\n",
       "      <th>bold</th>\n",
       "    </tr>\n",
       "  </thead>\n",
       "  <tbody>\n",
       "    <tr>\n",
       "      <th>0</th>\n",
       "      <td>Libra Regular</td>\n",
       "      <td>0.7975</td>\n",
       "      <td>22</td>\n",
       "      <td>manual</td>\n",
       "      <td>False</td>\n",
       "      <td>False</td>\n",
       "    </tr>\n",
       "    <tr>\n",
       "      <th>1</th>\n",
       "      <td>BreitkopfFraktur</td>\n",
       "      <td>0.9128</td>\n",
       "      <td>22</td>\n",
       "      <td>manual</td>\n",
       "      <td>True</td>\n",
       "      <td>False</td>\n",
       "    </tr>\n",
       "    <tr>\n",
       "      <th>2</th>\n",
       "      <td>BreitkopfFraktur</td>\n",
       "      <td>0.9097</td>\n",
       "      <td>16</td>\n",
       "      <td>manual</td>\n",
       "      <td>True</td>\n",
       "      <td>False</td>\n",
       "    </tr>\n",
       "    <tr>\n",
       "      <th>3</th>\n",
       "      <td>AshleyScriptMTStdRg</td>\n",
       "      <td>0.9470</td>\n",
       "      <td>18</td>\n",
       "      <td>manual</td>\n",
       "      <td>False</td>\n",
       "      <td>False</td>\n",
       "    </tr>\n",
       "    <tr>\n",
       "      <th>4</th>\n",
       "      <td>Libra Regular</td>\n",
       "      <td>0.6916</td>\n",
       "      <td>32</td>\n",
       "      <td>manual</td>\n",
       "      <td>True</td>\n",
       "      <td>False</td>\n",
       "    </tr>\n",
       "  </tbody>\n",
       "</table>\n",
       "</div>"
      ],
      "text/plain": [
       "             font_name  accuracy  font_size vox_atypl  underlined   bold\n",
       "0        Libra Regular    0.7975         22    manual       False  False\n",
       "1     BreitkopfFraktur    0.9128         22    manual        True  False\n",
       "2     BreitkopfFraktur    0.9097         16    manual        True  False\n",
       "3  AshleyScriptMTStdRg    0.9470         18    manual       False  False\n",
       "4        Libra Regular    0.6916         32    manual        True  False"
      ]
     },
     "execution_count": 2,
     "metadata": {},
     "output_type": "execute_result"
    }
   ],
   "source": [
    "df = pd.read_csv('experiment.csv')\n",
    "\n",
    "df['accuracy'] = df['accuracy'].str.replace('%', '')\n",
    "df['accuracy'] = pd.to_numeric(df['accuracy'])\n",
    "df['accuracy'] = df['accuracy'] / 100\n",
    "\n",
    "df.head()"
   ]
  },
  {
   "cell_type": "code",
   "execution_count": 3,
   "metadata": {},
   "outputs": [
    {
     "data": {
      "application/vnd.plotly.v1+json": {
       "config": {
        "plotlyServerURL": "https://plot.ly"
       },
       "data": [
        {
         "marker": {
          "color": [
           "#636EFA",
           "#EF553B",
           "#00CC96",
           "#AB63FA",
           "#FFA15A",
           "#19D3F3",
           "#FF6692",
           "#B6E880",
           "#FF97FF",
           "#FECB52"
          ]
         },
         "text": [
          0.85,
          0.84,
          0.84,
          0.83,
          0.83,
          0.82,
          0.84,
          0.81,
          0.81,
          0.81,
          0.8,
          0.82,
          0.79
         ],
         "textfont": {
          "size": 18
         },
         "textposition": "outside",
         "type": "bar",
         "x": [
          10,
          12,
          14,
          16,
          18,
          20,
          22,
          24,
          26,
          28,
          30,
          32,
          34
         ],
         "y": [
          0.8471537313432835,
          0.8429679104477611,
          0.8362716417910447,
          0.8333544776119403,
          0.8313619402985075,
          0.8168089552238805,
          0.8354731343283582,
          0.810744776119403,
          0.806160447761194,
          0.8098589552238806,
          0.8040485074626865,
          0.8162455223880597,
          0.7949485074626865
         ]
        }
       ],
       "layout": {
        "bargap": 0.4,
        "font": {
         "size": 18
        },
        "height": 500,
        "template": {
         "data": {
          "bar": [
           {
            "error_x": {
             "color": "#2a3f5f"
            },
            "error_y": {
             "color": "#2a3f5f"
            },
            "marker": {
             "line": {
              "color": "#E5ECF6",
              "width": 0.5
             },
             "pattern": {
              "fillmode": "overlay",
              "size": 10,
              "solidity": 0.2
             }
            },
            "type": "bar"
           }
          ],
          "barpolar": [
           {
            "marker": {
             "line": {
              "color": "#E5ECF6",
              "width": 0.5
             },
             "pattern": {
              "fillmode": "overlay",
              "size": 10,
              "solidity": 0.2
             }
            },
            "type": "barpolar"
           }
          ],
          "carpet": [
           {
            "aaxis": {
             "endlinecolor": "#2a3f5f",
             "gridcolor": "white",
             "linecolor": "white",
             "minorgridcolor": "white",
             "startlinecolor": "#2a3f5f"
            },
            "baxis": {
             "endlinecolor": "#2a3f5f",
             "gridcolor": "white",
             "linecolor": "white",
             "minorgridcolor": "white",
             "startlinecolor": "#2a3f5f"
            },
            "type": "carpet"
           }
          ],
          "choropleth": [
           {
            "colorbar": {
             "outlinewidth": 0,
             "ticks": ""
            },
            "type": "choropleth"
           }
          ],
          "contour": [
           {
            "colorbar": {
             "outlinewidth": 0,
             "ticks": ""
            },
            "colorscale": [
             [
              0,
              "#0d0887"
             ],
             [
              0.1111111111111111,
              "#46039f"
             ],
             [
              0.2222222222222222,
              "#7201a8"
             ],
             [
              0.3333333333333333,
              "#9c179e"
             ],
             [
              0.4444444444444444,
              "#bd3786"
             ],
             [
              0.5555555555555556,
              "#d8576b"
             ],
             [
              0.6666666666666666,
              "#ed7953"
             ],
             [
              0.7777777777777778,
              "#fb9f3a"
             ],
             [
              0.8888888888888888,
              "#fdca26"
             ],
             [
              1,
              "#f0f921"
             ]
            ],
            "type": "contour"
           }
          ],
          "contourcarpet": [
           {
            "colorbar": {
             "outlinewidth": 0,
             "ticks": ""
            },
            "type": "contourcarpet"
           }
          ],
          "heatmap": [
           {
            "colorbar": {
             "outlinewidth": 0,
             "ticks": ""
            },
            "colorscale": [
             [
              0,
              "#0d0887"
             ],
             [
              0.1111111111111111,
              "#46039f"
             ],
             [
              0.2222222222222222,
              "#7201a8"
             ],
             [
              0.3333333333333333,
              "#9c179e"
             ],
             [
              0.4444444444444444,
              "#bd3786"
             ],
             [
              0.5555555555555556,
              "#d8576b"
             ],
             [
              0.6666666666666666,
              "#ed7953"
             ],
             [
              0.7777777777777778,
              "#fb9f3a"
             ],
             [
              0.8888888888888888,
              "#fdca26"
             ],
             [
              1,
              "#f0f921"
             ]
            ],
            "type": "heatmap"
           }
          ],
          "heatmapgl": [
           {
            "colorbar": {
             "outlinewidth": 0,
             "ticks": ""
            },
            "colorscale": [
             [
              0,
              "#0d0887"
             ],
             [
              0.1111111111111111,
              "#46039f"
             ],
             [
              0.2222222222222222,
              "#7201a8"
             ],
             [
              0.3333333333333333,
              "#9c179e"
             ],
             [
              0.4444444444444444,
              "#bd3786"
             ],
             [
              0.5555555555555556,
              "#d8576b"
             ],
             [
              0.6666666666666666,
              "#ed7953"
             ],
             [
              0.7777777777777778,
              "#fb9f3a"
             ],
             [
              0.8888888888888888,
              "#fdca26"
             ],
             [
              1,
              "#f0f921"
             ]
            ],
            "type": "heatmapgl"
           }
          ],
          "histogram": [
           {
            "marker": {
             "pattern": {
              "fillmode": "overlay",
              "size": 10,
              "solidity": 0.2
             }
            },
            "type": "histogram"
           }
          ],
          "histogram2d": [
           {
            "colorbar": {
             "outlinewidth": 0,
             "ticks": ""
            },
            "colorscale": [
             [
              0,
              "#0d0887"
             ],
             [
              0.1111111111111111,
              "#46039f"
             ],
             [
              0.2222222222222222,
              "#7201a8"
             ],
             [
              0.3333333333333333,
              "#9c179e"
             ],
             [
              0.4444444444444444,
              "#bd3786"
             ],
             [
              0.5555555555555556,
              "#d8576b"
             ],
             [
              0.6666666666666666,
              "#ed7953"
             ],
             [
              0.7777777777777778,
              "#fb9f3a"
             ],
             [
              0.8888888888888888,
              "#fdca26"
             ],
             [
              1,
              "#f0f921"
             ]
            ],
            "type": "histogram2d"
           }
          ],
          "histogram2dcontour": [
           {
            "colorbar": {
             "outlinewidth": 0,
             "ticks": ""
            },
            "colorscale": [
             [
              0,
              "#0d0887"
             ],
             [
              0.1111111111111111,
              "#46039f"
             ],
             [
              0.2222222222222222,
              "#7201a8"
             ],
             [
              0.3333333333333333,
              "#9c179e"
             ],
             [
              0.4444444444444444,
              "#bd3786"
             ],
             [
              0.5555555555555556,
              "#d8576b"
             ],
             [
              0.6666666666666666,
              "#ed7953"
             ],
             [
              0.7777777777777778,
              "#fb9f3a"
             ],
             [
              0.8888888888888888,
              "#fdca26"
             ],
             [
              1,
              "#f0f921"
             ]
            ],
            "type": "histogram2dcontour"
           }
          ],
          "mesh3d": [
           {
            "colorbar": {
             "outlinewidth": 0,
             "ticks": ""
            },
            "type": "mesh3d"
           }
          ],
          "parcoords": [
           {
            "line": {
             "colorbar": {
              "outlinewidth": 0,
              "ticks": ""
             }
            },
            "type": "parcoords"
           }
          ],
          "pie": [
           {
            "automargin": true,
            "type": "pie"
           }
          ],
          "scatter": [
           {
            "fillpattern": {
             "fillmode": "overlay",
             "size": 10,
             "solidity": 0.2
            },
            "type": "scatter"
           }
          ],
          "scatter3d": [
           {
            "line": {
             "colorbar": {
              "outlinewidth": 0,
              "ticks": ""
             }
            },
            "marker": {
             "colorbar": {
              "outlinewidth": 0,
              "ticks": ""
             }
            },
            "type": "scatter3d"
           }
          ],
          "scattercarpet": [
           {
            "marker": {
             "colorbar": {
              "outlinewidth": 0,
              "ticks": ""
             }
            },
            "type": "scattercarpet"
           }
          ],
          "scattergeo": [
           {
            "marker": {
             "colorbar": {
              "outlinewidth": 0,
              "ticks": ""
             }
            },
            "type": "scattergeo"
           }
          ],
          "scattergl": [
           {
            "marker": {
             "colorbar": {
              "outlinewidth": 0,
              "ticks": ""
             }
            },
            "type": "scattergl"
           }
          ],
          "scattermapbox": [
           {
            "marker": {
             "colorbar": {
              "outlinewidth": 0,
              "ticks": ""
             }
            },
            "type": "scattermapbox"
           }
          ],
          "scatterpolar": [
           {
            "marker": {
             "colorbar": {
              "outlinewidth": 0,
              "ticks": ""
             }
            },
            "type": "scatterpolar"
           }
          ],
          "scatterpolargl": [
           {
            "marker": {
             "colorbar": {
              "outlinewidth": 0,
              "ticks": ""
             }
            },
            "type": "scatterpolargl"
           }
          ],
          "scatterternary": [
           {
            "marker": {
             "colorbar": {
              "outlinewidth": 0,
              "ticks": ""
             }
            },
            "type": "scatterternary"
           }
          ],
          "surface": [
           {
            "colorbar": {
             "outlinewidth": 0,
             "ticks": ""
            },
            "colorscale": [
             [
              0,
              "#0d0887"
             ],
             [
              0.1111111111111111,
              "#46039f"
             ],
             [
              0.2222222222222222,
              "#7201a8"
             ],
             [
              0.3333333333333333,
              "#9c179e"
             ],
             [
              0.4444444444444444,
              "#bd3786"
             ],
             [
              0.5555555555555556,
              "#d8576b"
             ],
             [
              0.6666666666666666,
              "#ed7953"
             ],
             [
              0.7777777777777778,
              "#fb9f3a"
             ],
             [
              0.8888888888888888,
              "#fdca26"
             ],
             [
              1,
              "#f0f921"
             ]
            ],
            "type": "surface"
           }
          ],
          "table": [
           {
            "cells": {
             "fill": {
              "color": "#EBF0F8"
             },
             "line": {
              "color": "white"
             }
            },
            "header": {
             "fill": {
              "color": "#C8D4E3"
             },
             "line": {
              "color": "white"
             }
            },
            "type": "table"
           }
          ]
         },
         "layout": {
          "annotationdefaults": {
           "arrowcolor": "#2a3f5f",
           "arrowhead": 0,
           "arrowwidth": 1
          },
          "autotypenumbers": "strict",
          "coloraxis": {
           "colorbar": {
            "outlinewidth": 0,
            "ticks": ""
           }
          },
          "colorscale": {
           "diverging": [
            [
             0,
             "#8e0152"
            ],
            [
             0.1,
             "#c51b7d"
            ],
            [
             0.2,
             "#de77ae"
            ],
            [
             0.3,
             "#f1b6da"
            ],
            [
             0.4,
             "#fde0ef"
            ],
            [
             0.5,
             "#f7f7f7"
            ],
            [
             0.6,
             "#e6f5d0"
            ],
            [
             0.7,
             "#b8e186"
            ],
            [
             0.8,
             "#7fbc41"
            ],
            [
             0.9,
             "#4d9221"
            ],
            [
             1,
             "#276419"
            ]
           ],
           "sequential": [
            [
             0,
             "#0d0887"
            ],
            [
             0.1111111111111111,
             "#46039f"
            ],
            [
             0.2222222222222222,
             "#7201a8"
            ],
            [
             0.3333333333333333,
             "#9c179e"
            ],
            [
             0.4444444444444444,
             "#bd3786"
            ],
            [
             0.5555555555555556,
             "#d8576b"
            ],
            [
             0.6666666666666666,
             "#ed7953"
            ],
            [
             0.7777777777777778,
             "#fb9f3a"
            ],
            [
             0.8888888888888888,
             "#fdca26"
            ],
            [
             1,
             "#f0f921"
            ]
           ],
           "sequentialminus": [
            [
             0,
             "#0d0887"
            ],
            [
             0.1111111111111111,
             "#46039f"
            ],
            [
             0.2222222222222222,
             "#7201a8"
            ],
            [
             0.3333333333333333,
             "#9c179e"
            ],
            [
             0.4444444444444444,
             "#bd3786"
            ],
            [
             0.5555555555555556,
             "#d8576b"
            ],
            [
             0.6666666666666666,
             "#ed7953"
            ],
            [
             0.7777777777777778,
             "#fb9f3a"
            ],
            [
             0.8888888888888888,
             "#fdca26"
            ],
            [
             1,
             "#f0f921"
            ]
           ]
          },
          "colorway": [
           "#636efa",
           "#EF553B",
           "#00cc96",
           "#ab63fa",
           "#FFA15A",
           "#19d3f3",
           "#FF6692",
           "#B6E880",
           "#FF97FF",
           "#FECB52"
          ],
          "font": {
           "color": "#2a3f5f"
          },
          "geo": {
           "bgcolor": "white",
           "lakecolor": "white",
           "landcolor": "#E5ECF6",
           "showlakes": true,
           "showland": true,
           "subunitcolor": "white"
          },
          "hoverlabel": {
           "align": "left"
          },
          "hovermode": "closest",
          "mapbox": {
           "style": "light"
          },
          "paper_bgcolor": "white",
          "plot_bgcolor": "#E5ECF6",
          "polar": {
           "angularaxis": {
            "gridcolor": "white",
            "linecolor": "white",
            "ticks": ""
           },
           "bgcolor": "#E5ECF6",
           "radialaxis": {
            "gridcolor": "white",
            "linecolor": "white",
            "ticks": ""
           }
          },
          "scene": {
           "xaxis": {
            "backgroundcolor": "#E5ECF6",
            "gridcolor": "white",
            "gridwidth": 2,
            "linecolor": "white",
            "showbackground": true,
            "ticks": "",
            "zerolinecolor": "white"
           },
           "yaxis": {
            "backgroundcolor": "#E5ECF6",
            "gridcolor": "white",
            "gridwidth": 2,
            "linecolor": "white",
            "showbackground": true,
            "ticks": "",
            "zerolinecolor": "white"
           },
           "zaxis": {
            "backgroundcolor": "#E5ECF6",
            "gridcolor": "white",
            "gridwidth": 2,
            "linecolor": "white",
            "showbackground": true,
            "ticks": "",
            "zerolinecolor": "white"
           }
          },
          "shapedefaults": {
           "line": {
            "color": "#2a3f5f"
           }
          },
          "ternary": {
           "aaxis": {
            "gridcolor": "white",
            "linecolor": "white",
            "ticks": ""
           },
           "baxis": {
            "gridcolor": "white",
            "linecolor": "white",
            "ticks": ""
           },
           "bgcolor": "#E5ECF6",
           "caxis": {
            "gridcolor": "white",
            "linecolor": "white",
            "ticks": ""
           }
          },
          "title": {
           "x": 0.05
          },
          "xaxis": {
           "automargin": true,
           "gridcolor": "white",
           "linecolor": "white",
           "ticks": "",
           "title": {
            "standoff": 15
           },
           "zerolinecolor": "white",
           "zerolinewidth": 2
          },
          "yaxis": {
           "automargin": true,
           "gridcolor": "white",
           "linecolor": "white",
           "ticks": "",
           "title": {
            "standoff": 15
           },
           "zerolinecolor": "white",
           "zerolinewidth": 2
          }
         }
        },
        "title": {
         "text": "Mean Accuracy by Font Size"
        },
        "width": 1500,
        "xaxis": {
         "ticktext": [
          10,
          12,
          14,
          16,
          18,
          20,
          22,
          24,
          26,
          28,
          30,
          32,
          34
         ],
         "tickvals": [
          10,
          12,
          14,
          16,
          18,
          20,
          22,
          24,
          26,
          28,
          30,
          32,
          34
         ],
         "title": {
          "text": "Font Size"
         }
        },
        "yaxis": {
         "range": [
          0,
          1
         ],
         "title": {
          "text": "Mean Accuracy"
         }
        }
       }
      }
     },
     "metadata": {},
     "output_type": "display_data"
    }
   ],
   "source": [
    "grouped_df = df.groupby(['font_size'])['accuracy'].mean().reset_index()\n",
    "\n",
    "fig = go.Figure()\n",
    "\n",
    "colors = px.colors.qualitative.Plotly[:len(grouped_df)]\n",
    "\n",
    "fig.add_trace(go.Bar(x=grouped_df['font_size'], \n",
    "                     y=grouped_df['accuracy'],\n",
    "                     marker=dict(color=colors),  # Change color here\n",
    "                     text=grouped_df['accuracy'].round(2),  # Add accuracy value as text label\n",
    "                     textfont=dict(size=18),\n",
    "                     textposition='outside'  # Set the text position outside the bar\n",
    "                     ))\n",
    "\n",
    "fig.update_layout(title='Mean Accuracy by Font Size',\n",
    "                  xaxis=dict(title='Font Size', tickvals=grouped_df['font_size'], ticktext=grouped_df['font_size']),\n",
    "                  yaxis=dict(title='Mean Accuracy'),\n",
    "                  font=dict(size=18),\n",
    "                  bargap=0.4,\n",
    "                  height=500,\n",
    "                  width=1500)\n",
    "\n",
    "fig.update_yaxes(range=[0, 1]) \n",
    "\n",
    "fig.show()"
   ]
  },
  {
   "cell_type": "code",
   "execution_count": 4,
   "metadata": {},
   "outputs": [
    {
     "data": {
      "application/vnd.plotly.v1+json": {
       "config": {
        "plotlyServerURL": "https://plot.ly"
       },
       "data": [
        {
         "marker": {
          "color": "lightsalmon"
         },
         "name": "Regular",
         "text": [
          0.87,
          0.85,
          0.84,
          0.86,
          0.83,
          0.82,
          0.85,
          0.82,
          0.81,
          0.82,
          0.81,
          0.81,
          0.8
         ],
         "textfont": {
          "size": 18
         },
         "type": "bar",
         "x": [
          10,
          12,
          14,
          16,
          18,
          20,
          22,
          24,
          26,
          28,
          30,
          32,
          34
         ],
         "y": [
          0.8737315789473684,
          0.8453140350877192,
          0.8363526315789473,
          0.8564245614035088,
          0.8316666666666667,
          0.8229824561403509,
          0.8475701754385966,
          0.8152263157894737,
          0.8148912280701754,
          0.8176315789473684,
          0.8084473684210526,
          0.8100315789473683,
          0.7984368421052631
         ]
        },
        {
         "marker": {
          "color": "indianred"
         },
         "name": "Underlined",
         "text": [
          0.82,
          0.84,
          0.83,
          0.81,
          0.82,
          0.8,
          0.82,
          0.81,
          0.8,
          0.8,
          0.8,
          0.82,
          0.79
         ],
         "textfont": {
          "size": 18
         },
         "type": "bar",
         "x": [
          10,
          12,
          14,
          16,
          18,
          20,
          22,
          24,
          26,
          28,
          30,
          32,
          34
         ],
         "y": [
          0.8190257575757576,
          0.8353984848484848,
          0.8303939393939394,
          0.808880303030303,
          0.8232878787878788,
          0.8028469696969698,
          0.8195030303030304,
          0.8071439393939395,
          0.7950075757575757,
          0.7977424242424241,
          0.7981272727272728,
          0.8197318181818182,
          0.7886757575757576
         ]
        },
        {
         "marker": {
          "color": "goldenrod"
         },
         "name": "Bold",
         "text": [
          0.9,
          0.89,
          0.88,
          0.87,
          0.9,
          0.89,
          0.89,
          0.83,
          0.85,
          0.87,
          0.85,
          0.85,
          0.84
         ],
         "textfont": {
          "size": 18
         },
         "type": "bar",
         "x": [
          10,
          12,
          14,
          16,
          18,
          20,
          22,
          24,
          26,
          28,
          30,
          32,
          34
         ],
         "y": [
          0.8956199999999999,
          0.89313,
          0.8847099999999999,
          0.87476,
          0.8972,
          0.8881600000000001,
          0.88849,
          0.8295999999999999,
          0.84956,
          0.86981,
          0.84519,
          0.85452,
          0.84331
         ]
        }
       ],
       "layout": {
        "bargap": 0.4,
        "font": {
         "size": 18
        },
        "height": 500,
        "template": {
         "data": {
          "bar": [
           {
            "error_x": {
             "color": "#2a3f5f"
            },
            "error_y": {
             "color": "#2a3f5f"
            },
            "marker": {
             "line": {
              "color": "#E5ECF6",
              "width": 0.5
             },
             "pattern": {
              "fillmode": "overlay",
              "size": 10,
              "solidity": 0.2
             }
            },
            "type": "bar"
           }
          ],
          "barpolar": [
           {
            "marker": {
             "line": {
              "color": "#E5ECF6",
              "width": 0.5
             },
             "pattern": {
              "fillmode": "overlay",
              "size": 10,
              "solidity": 0.2
             }
            },
            "type": "barpolar"
           }
          ],
          "carpet": [
           {
            "aaxis": {
             "endlinecolor": "#2a3f5f",
             "gridcolor": "white",
             "linecolor": "white",
             "minorgridcolor": "white",
             "startlinecolor": "#2a3f5f"
            },
            "baxis": {
             "endlinecolor": "#2a3f5f",
             "gridcolor": "white",
             "linecolor": "white",
             "minorgridcolor": "white",
             "startlinecolor": "#2a3f5f"
            },
            "type": "carpet"
           }
          ],
          "choropleth": [
           {
            "colorbar": {
             "outlinewidth": 0,
             "ticks": ""
            },
            "type": "choropleth"
           }
          ],
          "contour": [
           {
            "colorbar": {
             "outlinewidth": 0,
             "ticks": ""
            },
            "colorscale": [
             [
              0,
              "#0d0887"
             ],
             [
              0.1111111111111111,
              "#46039f"
             ],
             [
              0.2222222222222222,
              "#7201a8"
             ],
             [
              0.3333333333333333,
              "#9c179e"
             ],
             [
              0.4444444444444444,
              "#bd3786"
             ],
             [
              0.5555555555555556,
              "#d8576b"
             ],
             [
              0.6666666666666666,
              "#ed7953"
             ],
             [
              0.7777777777777778,
              "#fb9f3a"
             ],
             [
              0.8888888888888888,
              "#fdca26"
             ],
             [
              1,
              "#f0f921"
             ]
            ],
            "type": "contour"
           }
          ],
          "contourcarpet": [
           {
            "colorbar": {
             "outlinewidth": 0,
             "ticks": ""
            },
            "type": "contourcarpet"
           }
          ],
          "heatmap": [
           {
            "colorbar": {
             "outlinewidth": 0,
             "ticks": ""
            },
            "colorscale": [
             [
              0,
              "#0d0887"
             ],
             [
              0.1111111111111111,
              "#46039f"
             ],
             [
              0.2222222222222222,
              "#7201a8"
             ],
             [
              0.3333333333333333,
              "#9c179e"
             ],
             [
              0.4444444444444444,
              "#bd3786"
             ],
             [
              0.5555555555555556,
              "#d8576b"
             ],
             [
              0.6666666666666666,
              "#ed7953"
             ],
             [
              0.7777777777777778,
              "#fb9f3a"
             ],
             [
              0.8888888888888888,
              "#fdca26"
             ],
             [
              1,
              "#f0f921"
             ]
            ],
            "type": "heatmap"
           }
          ],
          "heatmapgl": [
           {
            "colorbar": {
             "outlinewidth": 0,
             "ticks": ""
            },
            "colorscale": [
             [
              0,
              "#0d0887"
             ],
             [
              0.1111111111111111,
              "#46039f"
             ],
             [
              0.2222222222222222,
              "#7201a8"
             ],
             [
              0.3333333333333333,
              "#9c179e"
             ],
             [
              0.4444444444444444,
              "#bd3786"
             ],
             [
              0.5555555555555556,
              "#d8576b"
             ],
             [
              0.6666666666666666,
              "#ed7953"
             ],
             [
              0.7777777777777778,
              "#fb9f3a"
             ],
             [
              0.8888888888888888,
              "#fdca26"
             ],
             [
              1,
              "#f0f921"
             ]
            ],
            "type": "heatmapgl"
           }
          ],
          "histogram": [
           {
            "marker": {
             "pattern": {
              "fillmode": "overlay",
              "size": 10,
              "solidity": 0.2
             }
            },
            "type": "histogram"
           }
          ],
          "histogram2d": [
           {
            "colorbar": {
             "outlinewidth": 0,
             "ticks": ""
            },
            "colorscale": [
             [
              0,
              "#0d0887"
             ],
             [
              0.1111111111111111,
              "#46039f"
             ],
             [
              0.2222222222222222,
              "#7201a8"
             ],
             [
              0.3333333333333333,
              "#9c179e"
             ],
             [
              0.4444444444444444,
              "#bd3786"
             ],
             [
              0.5555555555555556,
              "#d8576b"
             ],
             [
              0.6666666666666666,
              "#ed7953"
             ],
             [
              0.7777777777777778,
              "#fb9f3a"
             ],
             [
              0.8888888888888888,
              "#fdca26"
             ],
             [
              1,
              "#f0f921"
             ]
            ],
            "type": "histogram2d"
           }
          ],
          "histogram2dcontour": [
           {
            "colorbar": {
             "outlinewidth": 0,
             "ticks": ""
            },
            "colorscale": [
             [
              0,
              "#0d0887"
             ],
             [
              0.1111111111111111,
              "#46039f"
             ],
             [
              0.2222222222222222,
              "#7201a8"
             ],
             [
              0.3333333333333333,
              "#9c179e"
             ],
             [
              0.4444444444444444,
              "#bd3786"
             ],
             [
              0.5555555555555556,
              "#d8576b"
             ],
             [
              0.6666666666666666,
              "#ed7953"
             ],
             [
              0.7777777777777778,
              "#fb9f3a"
             ],
             [
              0.8888888888888888,
              "#fdca26"
             ],
             [
              1,
              "#f0f921"
             ]
            ],
            "type": "histogram2dcontour"
           }
          ],
          "mesh3d": [
           {
            "colorbar": {
             "outlinewidth": 0,
             "ticks": ""
            },
            "type": "mesh3d"
           }
          ],
          "parcoords": [
           {
            "line": {
             "colorbar": {
              "outlinewidth": 0,
              "ticks": ""
             }
            },
            "type": "parcoords"
           }
          ],
          "pie": [
           {
            "automargin": true,
            "type": "pie"
           }
          ],
          "scatter": [
           {
            "fillpattern": {
             "fillmode": "overlay",
             "size": 10,
             "solidity": 0.2
            },
            "type": "scatter"
           }
          ],
          "scatter3d": [
           {
            "line": {
             "colorbar": {
              "outlinewidth": 0,
              "ticks": ""
             }
            },
            "marker": {
             "colorbar": {
              "outlinewidth": 0,
              "ticks": ""
             }
            },
            "type": "scatter3d"
           }
          ],
          "scattercarpet": [
           {
            "marker": {
             "colorbar": {
              "outlinewidth": 0,
              "ticks": ""
             }
            },
            "type": "scattercarpet"
           }
          ],
          "scattergeo": [
           {
            "marker": {
             "colorbar": {
              "outlinewidth": 0,
              "ticks": ""
             }
            },
            "type": "scattergeo"
           }
          ],
          "scattergl": [
           {
            "marker": {
             "colorbar": {
              "outlinewidth": 0,
              "ticks": ""
             }
            },
            "type": "scattergl"
           }
          ],
          "scattermapbox": [
           {
            "marker": {
             "colorbar": {
              "outlinewidth": 0,
              "ticks": ""
             }
            },
            "type": "scattermapbox"
           }
          ],
          "scatterpolar": [
           {
            "marker": {
             "colorbar": {
              "outlinewidth": 0,
              "ticks": ""
             }
            },
            "type": "scatterpolar"
           }
          ],
          "scatterpolargl": [
           {
            "marker": {
             "colorbar": {
              "outlinewidth": 0,
              "ticks": ""
             }
            },
            "type": "scatterpolargl"
           }
          ],
          "scatterternary": [
           {
            "marker": {
             "colorbar": {
              "outlinewidth": 0,
              "ticks": ""
             }
            },
            "type": "scatterternary"
           }
          ],
          "surface": [
           {
            "colorbar": {
             "outlinewidth": 0,
             "ticks": ""
            },
            "colorscale": [
             [
              0,
              "#0d0887"
             ],
             [
              0.1111111111111111,
              "#46039f"
             ],
             [
              0.2222222222222222,
              "#7201a8"
             ],
             [
              0.3333333333333333,
              "#9c179e"
             ],
             [
              0.4444444444444444,
              "#bd3786"
             ],
             [
              0.5555555555555556,
              "#d8576b"
             ],
             [
              0.6666666666666666,
              "#ed7953"
             ],
             [
              0.7777777777777778,
              "#fb9f3a"
             ],
             [
              0.8888888888888888,
              "#fdca26"
             ],
             [
              1,
              "#f0f921"
             ]
            ],
            "type": "surface"
           }
          ],
          "table": [
           {
            "cells": {
             "fill": {
              "color": "#EBF0F8"
             },
             "line": {
              "color": "white"
             }
            },
            "header": {
             "fill": {
              "color": "#C8D4E3"
             },
             "line": {
              "color": "white"
             }
            },
            "type": "table"
           }
          ]
         },
         "layout": {
          "annotationdefaults": {
           "arrowcolor": "#2a3f5f",
           "arrowhead": 0,
           "arrowwidth": 1
          },
          "autotypenumbers": "strict",
          "coloraxis": {
           "colorbar": {
            "outlinewidth": 0,
            "ticks": ""
           }
          },
          "colorscale": {
           "diverging": [
            [
             0,
             "#8e0152"
            ],
            [
             0.1,
             "#c51b7d"
            ],
            [
             0.2,
             "#de77ae"
            ],
            [
             0.3,
             "#f1b6da"
            ],
            [
             0.4,
             "#fde0ef"
            ],
            [
             0.5,
             "#f7f7f7"
            ],
            [
             0.6,
             "#e6f5d0"
            ],
            [
             0.7,
             "#b8e186"
            ],
            [
             0.8,
             "#7fbc41"
            ],
            [
             0.9,
             "#4d9221"
            ],
            [
             1,
             "#276419"
            ]
           ],
           "sequential": [
            [
             0,
             "#0d0887"
            ],
            [
             0.1111111111111111,
             "#46039f"
            ],
            [
             0.2222222222222222,
             "#7201a8"
            ],
            [
             0.3333333333333333,
             "#9c179e"
            ],
            [
             0.4444444444444444,
             "#bd3786"
            ],
            [
             0.5555555555555556,
             "#d8576b"
            ],
            [
             0.6666666666666666,
             "#ed7953"
            ],
            [
             0.7777777777777778,
             "#fb9f3a"
            ],
            [
             0.8888888888888888,
             "#fdca26"
            ],
            [
             1,
             "#f0f921"
            ]
           ],
           "sequentialminus": [
            [
             0,
             "#0d0887"
            ],
            [
             0.1111111111111111,
             "#46039f"
            ],
            [
             0.2222222222222222,
             "#7201a8"
            ],
            [
             0.3333333333333333,
             "#9c179e"
            ],
            [
             0.4444444444444444,
             "#bd3786"
            ],
            [
             0.5555555555555556,
             "#d8576b"
            ],
            [
             0.6666666666666666,
             "#ed7953"
            ],
            [
             0.7777777777777778,
             "#fb9f3a"
            ],
            [
             0.8888888888888888,
             "#fdca26"
            ],
            [
             1,
             "#f0f921"
            ]
           ]
          },
          "colorway": [
           "#636efa",
           "#EF553B",
           "#00cc96",
           "#ab63fa",
           "#FFA15A",
           "#19d3f3",
           "#FF6692",
           "#B6E880",
           "#FF97FF",
           "#FECB52"
          ],
          "font": {
           "color": "#2a3f5f"
          },
          "geo": {
           "bgcolor": "white",
           "lakecolor": "white",
           "landcolor": "#E5ECF6",
           "showlakes": true,
           "showland": true,
           "subunitcolor": "white"
          },
          "hoverlabel": {
           "align": "left"
          },
          "hovermode": "closest",
          "mapbox": {
           "style": "light"
          },
          "paper_bgcolor": "white",
          "plot_bgcolor": "#E5ECF6",
          "polar": {
           "angularaxis": {
            "gridcolor": "white",
            "linecolor": "white",
            "ticks": ""
           },
           "bgcolor": "#E5ECF6",
           "radialaxis": {
            "gridcolor": "white",
            "linecolor": "white",
            "ticks": ""
           }
          },
          "scene": {
           "xaxis": {
            "backgroundcolor": "#E5ECF6",
            "gridcolor": "white",
            "gridwidth": 2,
            "linecolor": "white",
            "showbackground": true,
            "ticks": "",
            "zerolinecolor": "white"
           },
           "yaxis": {
            "backgroundcolor": "#E5ECF6",
            "gridcolor": "white",
            "gridwidth": 2,
            "linecolor": "white",
            "showbackground": true,
            "ticks": "",
            "zerolinecolor": "white"
           },
           "zaxis": {
            "backgroundcolor": "#E5ECF6",
            "gridcolor": "white",
            "gridwidth": 2,
            "linecolor": "white",
            "showbackground": true,
            "ticks": "",
            "zerolinecolor": "white"
           }
          },
          "shapedefaults": {
           "line": {
            "color": "#2a3f5f"
           }
          },
          "ternary": {
           "aaxis": {
            "gridcolor": "white",
            "linecolor": "white",
            "ticks": ""
           },
           "baxis": {
            "gridcolor": "white",
            "linecolor": "white",
            "ticks": ""
           },
           "bgcolor": "#E5ECF6",
           "caxis": {
            "gridcolor": "white",
            "linecolor": "white",
            "ticks": ""
           }
          },
          "title": {
           "x": 0.05
          },
          "xaxis": {
           "automargin": true,
           "gridcolor": "white",
           "linecolor": "white",
           "ticks": "",
           "title": {
            "standoff": 15
           },
           "zerolinecolor": "white",
           "zerolinewidth": 2
          },
          "yaxis": {
           "automargin": true,
           "gridcolor": "white",
           "linecolor": "white",
           "ticks": "",
           "title": {
            "standoff": 15
           },
           "zerolinecolor": "white",
           "zerolinewidth": 2
          }
         }
        },
        "title": {
         "text": "Mean Accuracy by Font Size"
        },
        "width": 1500,
        "xaxis": {
         "ticktext": [
          10,
          10,
          10,
          10,
          12,
          12,
          12,
          12,
          14,
          14,
          14,
          14,
          16,
          16,
          16,
          16,
          18,
          18,
          18,
          18,
          20,
          20,
          20,
          20,
          22,
          22,
          22,
          22,
          24,
          24,
          24,
          24,
          26,
          26,
          26,
          26,
          28,
          28,
          28,
          28,
          30,
          30,
          30,
          30,
          32,
          32,
          32,
          32,
          34,
          34,
          34,
          34
         ],
         "tickvals": [
          10,
          10,
          10,
          10,
          12,
          12,
          12,
          12,
          14,
          14,
          14,
          14,
          16,
          16,
          16,
          16,
          18,
          18,
          18,
          18,
          20,
          20,
          20,
          20,
          22,
          22,
          22,
          22,
          24,
          24,
          24,
          24,
          26,
          26,
          26,
          26,
          28,
          28,
          28,
          28,
          30,
          30,
          30,
          30,
          32,
          32,
          32,
          32,
          34,
          34,
          34,
          34
         ],
         "title": {
          "text": "Font Size"
         }
        },
        "yaxis": {
         "range": [
          0,
          1
         ],
         "title": {
          "text": "Mean Accuracy"
         }
        }
       }
      }
     },
     "metadata": {},
     "output_type": "display_data"
    }
   ],
   "source": [
    "grouped_df = df.groupby(['font_size', 'underlined', 'bold'])['accuracy'].mean().reset_index()\n",
    "\n",
    "fig = go.Figure()\n",
    "\n",
    "fig.add_trace(go.Bar(\n",
    "    x=grouped_df[(grouped_df['underlined'] == False) & (grouped_df['bold'] == False)]['font_size'],\n",
    "    y=grouped_df[(grouped_df['underlined'] == False) & (grouped_df['bold'] == False)]['accuracy'],\n",
    "    text=grouped_df[(grouped_df['underlined'] == False) & (grouped_df['bold'] == False)]['accuracy'].round(2),\n",
    "    name='Regular',\n",
    "    textfont=dict(size=18),\n",
    "    marker_color='lightsalmon'\n",
    "))\n",
    "\n",
    "fig.add_trace(go.Bar(\n",
    "    x=grouped_df[(grouped_df['underlined'] == True) & (grouped_df['bold'] == False)]['font_size'],\n",
    "    y=grouped_df[(grouped_df['underlined'] == True) & (grouped_df['bold'] == False)]['accuracy'],\n",
    "    text=grouped_df[(grouped_df['underlined'] == True) & (grouped_df['bold'] == False)]['accuracy'].round(2),\n",
    "    name='Underlined',\n",
    "    textfont=dict(size=18),\n",
    "    marker_color='indianred'\n",
    "))\n",
    "\n",
    "fig.add_trace(go.Bar(\n",
    "    x=grouped_df[(grouped_df['bold'] == True) & (grouped_df['underlined'] == False)]['font_size'],\n",
    "    y=grouped_df[(grouped_df['bold'] == True) & (grouped_df['underlined'] == False)]['accuracy'],\n",
    "    text=grouped_df[(grouped_df['bold'] == True) & (grouped_df['underlined'] == False)]['accuracy'].round(2),\n",
    "    name='Bold',\n",
    "    textfont=dict(size=18),\n",
    "    marker_color='goldenrod'\n",
    "))\n",
    "\n",
    "fig.update_layout(title='Mean Accuracy by Font Size',\n",
    "                  xaxis=dict(title='Font Size', tickvals=grouped_df['font_size'], ticktext=grouped_df['font_size']),\n",
    "                  yaxis=dict(title='Mean Accuracy'),\n",
    "                  font=dict(size=18),\n",
    "                  bargap=0.4,\n",
    "                  height=500,\n",
    "                  width=1500)\n",
    "\n",
    "fig.update_yaxes(range=[0, 1]) \n",
    "pio.write_image(fig, os.path.join('plots', 'accuracy_by_font-size.png'), scale=6)\n",
    "fig.show()"
   ]
  },
  {
   "cell_type": "code",
   "execution_count": 5,
   "metadata": {},
   "outputs": [],
   "source": [
    "for vox_atypi in df['vox_atypl'].unique():\n",
    "    filtered_df = df[df['vox_atypl'] == vox_atypi]\n",
    "    \n",
    "    grouped_df = filtered_df.groupby(['font_size', 'underlined', 'bold'])['accuracy'].mean().reset_index()\n",
    "\n",
    "    fig = go.Figure()\n",
    "\n",
    "    fig.add_trace(go.Bar(\n",
    "        y=grouped_df[(grouped_df['underlined'] == False) & (grouped_df['bold'] == False)]['font_size'],\n",
    "        x=grouped_df[(grouped_df['underlined'] == False) & (grouped_df['bold'] == False)]['accuracy'],\n",
    "        text=grouped_df[(grouped_df['underlined'] == False) & (grouped_df['bold'] == False)]['accuracy'].round(2),\n",
    "        name='Regular',\n",
    "        textfont=dict(size=16),\n",
    "        marker_color='chartreuse',\n",
    "        orientation='h'\n",
    "    ))\n",
    "\n",
    "    fig.add_trace(go.Bar(\n",
    "        y=grouped_df[(grouped_df['underlined'] == True) & (grouped_df['bold'] == False)]['font_size'],\n",
    "        x=grouped_df[(grouped_df['underlined'] == True) & (grouped_df['bold'] == False)]['accuracy'],\n",
    "        text=grouped_df[(grouped_df['underlined'] == True) & (grouped_df['bold'] == False)]['accuracy'].round(2),\n",
    "        name='Underlined',\n",
    "        textfont=dict(size=16),\n",
    "        marker_color='cyan',\n",
    "        orientation='h'\n",
    "    ))\n",
    "\n",
    "    fig.add_trace(go.Bar(\n",
    "        y=grouped_df[(grouped_df['bold'] == True) & (grouped_df['underlined'] == False)]['font_size'],\n",
    "        x=grouped_df[(grouped_df['bold'] == True) & (grouped_df['underlined'] == False)]['accuracy'],\n",
    "        text=grouped_df[(grouped_df['bold'] == True) & (grouped_df['underlined'] == False)]['accuracy'].round(2),\n",
    "        name='Bold',\n",
    "        textfont=dict(size=16),\n",
    "        marker_color='firebrick',\n",
    "        orientation='h'\n",
    "    ))\n",
    "\n",
    "    fig.update_layout(title=f'{vox_atypi.capitalize()}',\n",
    "                    yaxis=dict(title='Font Size', tickvals=grouped_df['font_size'], ticktext=grouped_df['font_size']), # updating y-axis\n",
    "                    xaxis=dict(title='Mean Accuracy'), # updating x-axis\n",
    "                    font=dict(size=16),\n",
    "                    legend=dict(\n",
    "                        orientation=\"h\",\n",
    "                        yanchor=\"top\",\n",
    "                        y=1.05,\n",
    "                        xanchor=\"center\",\n",
    "                        x=0.5\n",
    "                    ),\n",
    "                    bargap=0.2,\n",
    "                    height=1000,\n",
    "                    width=500)\n",
    "\n",
    "    fig.update_xaxes(range=[0, 1.05])\n",
    "    pio.write_image(fig, os.path.join('plots', 'by_vox', f'{vox_atypi}_accuracy_by_font-size.png'), scale=6)\n"
   ]
  },
  {
   "cell_type": "code",
   "execution_count": 6,
   "metadata": {},
   "outputs": [],
   "source": [
    "for font_name in df['font_name'].unique():\n",
    "    filtered_df = df[df['font_name'] == font_name]\n",
    "    \n",
    "    grouped_df = filtered_df.groupby(['font_size', 'underlined', 'bold'])['accuracy'].mean().reset_index()\n",
    "\n",
    "    fig = go.Figure()\n",
    "\n",
    "    fig.add_trace(go.Bar(\n",
    "        y=grouped_df[(grouped_df['underlined'] == False) & (grouped_df['bold'] == False)]['font_size'],\n",
    "        x=grouped_df[(grouped_df['underlined'] == False) & (grouped_df['bold'] == False)]['accuracy'],\n",
    "        text=grouped_df[(grouped_df['underlined'] == False) & (grouped_df['bold'] == False)]['accuracy'].round(2),\n",
    "        name='Regular',\n",
    "        textfont=dict(size=16),\n",
    "        marker_color='chartreuse',\n",
    "        orientation='h'\n",
    "    ))\n",
    "    \n",
    "    fig.add_trace(go.Bar(\n",
    "        y=grouped_df[(grouped_df['underlined'] == True) & (grouped_df['bold'] == False)]['font_size'],\n",
    "        x=grouped_df[(grouped_df['underlined'] == True) & (grouped_df['bold'] == False)]['accuracy'],\n",
    "        text=grouped_df[(grouped_df['underlined'] == True) & (grouped_df['bold'] == False)]['accuracy'].round(2),\n",
    "        name='Underlined',\n",
    "        textfont=dict(size=16),\n",
    "        marker_color='cyan',\n",
    "        orientation='h'\n",
    "    ))\n",
    "\n",
    "    fig.add_trace(go.Bar(\n",
    "        y=grouped_df[(grouped_df['bold'] == True) & (grouped_df['underlined'] == False)]['font_size'],\n",
    "        x=grouped_df[(grouped_df['bold'] == True) & (grouped_df['underlined'] == False)]['accuracy'],\n",
    "        text=grouped_df[(grouped_df['bold'] == True) & (grouped_df['underlined'] == False)]['accuracy'].round(2),\n",
    "        name='Bold',\n",
    "        textfont=dict(size=16),\n",
    "        marker_color='firebrick',\n",
    "        orientation='h'\n",
    "    ))\n",
    "    \n",
    "    fig.update_layout(title=font_name,\n",
    "                    yaxis=dict(title='Font Size', tickvals=grouped_df['font_size'], ticktext=grouped_df['font_size']), # updating y-axis\n",
    "                    xaxis=dict(title='Mean Accuracy'), # updating x-axis\n",
    "                    font=dict(size=16),\n",
    "                    legend=dict(\n",
    "                        orientation=\"h\",\n",
    "                        yanchor=\"top\",\n",
    "                        y=1.05,\n",
    "                        xanchor=\"center\",\n",
    "                        x=0.5\n",
    "                    ),\n",
    "                    bargap=0.2,\n",
    "                    height=1000,\n",
    "                    width=500)\n",
    "\n",
    "    fig.update_xaxes(range=[0, 1.05])\n",
    "    pio.write_image(fig, os.path.join('plots', 'by_font_name', f'{font_name}_accuracy_by_font-size.png'), scale=6)"
   ]
  },
  {
   "cell_type": "markdown",
   "metadata": {},
   "source": [
    "Vertical"
   ]
  },
  {
   "cell_type": "code",
   "execution_count": 7,
   "metadata": {},
   "outputs": [],
   "source": [
    "for vox_atypi in df['vox_atypl'].unique():\n",
    "    filtered_df = df[df['vox_atypl'] == vox_atypi]\n",
    "    \n",
    "    grouped_df = filtered_df.groupby(['font_size', 'underlined', 'bold'])['accuracy'].mean().reset_index()\n",
    "\n",
    "    fig = go.Figure()\n",
    "\n",
    "    fig.add_trace(go.Bar(\n",
    "        x=grouped_df[(grouped_df['underlined'] == False) & (grouped_df['bold'] == False)]['font_size'],\n",
    "        y=grouped_df[(grouped_df['underlined'] == False) & (grouped_df['bold'] == False)]['accuracy'],\n",
    "        text=grouped_df[(grouped_df['underlined'] == False) & (grouped_df['bold'] == False)]['accuracy'].round(2),\n",
    "        textposition='outside',\n",
    "        textangle=270,\n",
    "        textfont=dict(size=10),\n",
    "        name='Regular',\n",
    "        marker_color='chartreuse'\n",
    "    ))\n",
    "\n",
    "    fig.add_trace(go.Bar(\n",
    "        x=grouped_df[(grouped_df['underlined'] == True) & (grouped_df['bold'] == False)]['font_size'],\n",
    "        y=grouped_df[(grouped_df['underlined'] == True) & (grouped_df['bold'] == False)]['accuracy'],\n",
    "        text=grouped_df[(grouped_df['underlined'] == True) & (grouped_df['bold'] == False)]['accuracy'].round(2),\n",
    "        textposition='outside',\n",
    "        textangle=270,\n",
    "        textfont=dict(size=10),\n",
    "        name='Underlined',\n",
    "        marker_color='cyan'\n",
    "    ))\n",
    "\n",
    "    fig.add_trace(go.Bar(\n",
    "        x=grouped_df[(grouped_df['bold'] == True) & (grouped_df['underlined'] == False)]['font_size'],\n",
    "        y=grouped_df[(grouped_df['bold'] == True) & (grouped_df['underlined'] == False)]['accuracy'],\n",
    "        text=grouped_df[(grouped_df['bold'] == True) & (grouped_df['underlined'] == False)]['accuracy'].round(2),\n",
    "        textposition='outside',\n",
    "        textangle=270,\n",
    "        textfont=dict(size=10),\n",
    "        name='Bold',\n",
    "        marker_color='firebrick'\n",
    "    ))\n",
    "\n",
    "    fig.update_layout(title=f'{vox_atypi.capitalize()}',\n",
    "                    xaxis=dict(title='Font Size', tickvals=grouped_df['font_size'], ticktext=grouped_df['font_size']), # updating x-axis\n",
    "                    yaxis=dict(title='Mean Accuracy'), # updating y-axis\n",
    "                    font=dict(size=16),\n",
    "                    legend=dict(\n",
    "                        orientation=\"h\",\n",
    "                        yanchor=\"top\",\n",
    "                        y=1.15,\n",
    "                        xanchor=\"center\",\n",
    "                        x=0.5\n",
    "                    ),\n",
    "                    bargap=0.2,\n",
    "                    height=500,\n",
    "                    width=1000)\n",
    "\n",
    "    fig.update_yaxes(range=[0, 1.05])\n",
    "    pio.write_image(fig, os.path.join('plots', 'by_vox', f'{vox_atypi}_accuracy_by_font-size.png'), scale=6)\n",
    "\n"
   ]
  },
  {
   "cell_type": "code",
   "execution_count": 8,
   "metadata": {},
   "outputs": [],
   "source": [
    "for font_name in df['font_name'].unique():\n",
    "    filtered_df = df[df['font_name'] == font_name]\n",
    "    \n",
    "    grouped_df = filtered_df.groupby(['font_size', 'underlined', 'bold'])['accuracy'].mean().reset_index()\n",
    "\n",
    "    fig = go.Figure()\n",
    "\n",
    "    fig.add_trace(go.Bar(\n",
    "        x=grouped_df[(grouped_df['underlined'] == False) & (grouped_df['bold'] == False)]['font_size'],\n",
    "        y=grouped_df[(grouped_df['underlined'] == False) & (grouped_df['bold'] == False)]['accuracy'],\n",
    "        text=grouped_df[(grouped_df['underlined'] == False) & (grouped_df['bold'] == False)]['accuracy'].round(2),\n",
    "        textposition='outside',\n",
    "        textangle=270,\n",
    "        textfont=dict(size=10),\n",
    "        name='Regular',\n",
    "        marker_color='chartreuse'\n",
    "    ))\n",
    "    \n",
    "    fig.add_trace(go.Bar(\n",
    "        x=grouped_df[(grouped_df['underlined'] == True) & (grouped_df['bold'] == False)]['font_size'],\n",
    "        y=grouped_df[(grouped_df['underlined'] == True) & (grouped_df['bold'] == False)]['accuracy'],\n",
    "        text=grouped_df[(grouped_df['underlined'] == True) & (grouped_df['bold'] == False)]['accuracy'].round(2),\n",
    "        textposition='outside',\n",
    "        textangle=270,\n",
    "        textfont=dict(size=10),\n",
    "        name='Underlined',\n",
    "        marker_color='cyan'\n",
    "    ))\n",
    "\n",
    "    fig.add_trace(go.Bar(\n",
    "        x=grouped_df[(grouped_df['bold'] == True) & (grouped_df['underlined'] == False)]['font_size'],\n",
    "        y=grouped_df[(grouped_df['bold'] == True) & (grouped_df['underlined'] == False)]['accuracy'],\n",
    "        text=grouped_df[(grouped_df['bold'] == True) & (grouped_df['underlined'] == False)]['accuracy'].round(2),\n",
    "        textposition='outside',\n",
    "        textangle=270,\n",
    "        textfont=dict(size=10),\n",
    "        name='Bold',\n",
    "        marker_color='firebrick'\n",
    "    ))\n",
    "    \n",
    "    fig.update_layout(title=font_name,\n",
    "                    xaxis=dict(title='Font Size', tickvals=grouped_df['font_size'], ticktext=grouped_df['font_size']), # updating x-axis\n",
    "                    yaxis=dict(title='Mean Accuracy'), # updating y-axis\n",
    "                    font=dict(size=16),\n",
    "                    legend=dict(\n",
    "                        orientation=\"h\",\n",
    "                        yanchor=\"top\",\n",
    "                        y=1.15,\n",
    "                        xanchor=\"center\",\n",
    "                        x=0.5\n",
    "                    ),\n",
    "                    bargap=0.2,\n",
    "                    height=500,\n",
    "                    width=1000)\n",
    "\n",
    "    fig.update_yaxes(range=[0, 1.05])\n",
    "    pio.write_image(fig, os.path.join('plots', 'by_font_name', f'{font_name}_accuracy_by_font-size.png'), scale=6)\n",
    "\n"
   ]
  },
  {
   "cell_type": "markdown",
   "metadata": {},
   "source": [
    "MERGING PEIGNOT"
   ]
  },
  {
   "cell_type": "code",
   "execution_count": 4,
   "metadata": {},
   "outputs": [
    {
     "data": {
      "text/html": [
       "<div>\n",
       "<style scoped>\n",
       "    .dataframe tbody tr th:only-of-type {\n",
       "        vertical-align: middle;\n",
       "    }\n",
       "\n",
       "    .dataframe tbody tr th {\n",
       "        vertical-align: top;\n",
       "    }\n",
       "\n",
       "    .dataframe thead th {\n",
       "        text-align: right;\n",
       "    }\n",
       "</style>\n",
       "<table border=\"1\" class=\"dataframe\">\n",
       "  <thead>\n",
       "    <tr style=\"text-align: right;\">\n",
       "      <th></th>\n",
       "      <th>font_name</th>\n",
       "      <th>accuracy</th>\n",
       "      <th>font_size</th>\n",
       "      <th>vox_atypl</th>\n",
       "      <th>underlined</th>\n",
       "      <th>bold</th>\n",
       "    </tr>\n",
       "  </thead>\n",
       "  <tbody>\n",
       "    <tr>\n",
       "      <th>0</th>\n",
       "      <td>Libra Regular</td>\n",
       "      <td>0.7975</td>\n",
       "      <td>22</td>\n",
       "      <td>manual</td>\n",
       "      <td>False</td>\n",
       "      <td>False</td>\n",
       "    </tr>\n",
       "    <tr>\n",
       "      <th>1</th>\n",
       "      <td>BreitkopfFraktur</td>\n",
       "      <td>0.9128</td>\n",
       "      <td>22</td>\n",
       "      <td>manual</td>\n",
       "      <td>True</td>\n",
       "      <td>False</td>\n",
       "    </tr>\n",
       "    <tr>\n",
       "      <th>2</th>\n",
       "      <td>BreitkopfFraktur</td>\n",
       "      <td>0.9097</td>\n",
       "      <td>16</td>\n",
       "      <td>manual</td>\n",
       "      <td>True</td>\n",
       "      <td>False</td>\n",
       "    </tr>\n",
       "    <tr>\n",
       "      <th>3</th>\n",
       "      <td>AshleyScriptMTStdRg</td>\n",
       "      <td>0.9470</td>\n",
       "      <td>18</td>\n",
       "      <td>manual</td>\n",
       "      <td>False</td>\n",
       "      <td>False</td>\n",
       "    </tr>\n",
       "    <tr>\n",
       "      <th>4</th>\n",
       "      <td>Libra Regular</td>\n",
       "      <td>0.6916</td>\n",
       "      <td>32</td>\n",
       "      <td>manual</td>\n",
       "      <td>True</td>\n",
       "      <td>False</td>\n",
       "    </tr>\n",
       "  </tbody>\n",
       "</table>\n",
       "</div>"
      ],
      "text/plain": [
       "             font_name  accuracy  font_size vox_atypl  underlined   bold\n",
       "0        Libra Regular    0.7975         22    manual       False  False\n",
       "1     BreitkopfFraktur    0.9128         22    manual        True  False\n",
       "2     BreitkopfFraktur    0.9097         16    manual        True  False\n",
       "3  AshleyScriptMTStdRg    0.9470         18    manual       False  False\n",
       "4        Libra Regular    0.6916         32    manual        True  False"
      ]
     },
     "execution_count": 4,
     "metadata": {},
     "output_type": "execute_result"
    }
   ],
   "source": [
    "df = pd.read_csv('experiment.csv')\n",
    "\n",
    "df['accuracy'] = df['accuracy'].str.replace('%', '')\n",
    "df['accuracy'] = pd.to_numeric(df['accuracy'])\n",
    "df['accuracy'] = df['accuracy'] / 100\n",
    "\n",
    "df.head()"
   ]
  },
  {
   "cell_type": "code",
   "execution_count": 21,
   "metadata": {},
   "outputs": [
    {
     "ename": "ValueError",
     "evalue": "\nImage export using the \"kaleido\" engine requires the kaleido package,\nwhich can be installed using pip:\n    $ pip install -U kaleido\n",
     "output_type": "error",
     "traceback": [
      "\u001b[1;31m---------------------------------------------------------------------------\u001b[0m",
      "\u001b[1;31mValueError\u001b[0m                                Traceback (most recent call last)",
      "Cell \u001b[1;32mIn[21], line 58\u001b[0m\n\u001b[0;32m     42\u001b[0m fig\u001b[38;5;241m.\u001b[39mupdate_layout(title\u001b[38;5;241m=\u001b[39m\u001b[38;5;124m'\u001b[39m\u001b[38;5;124mpeignot\u001b[39m\u001b[38;5;124m'\u001b[39m,\n\u001b[0;32m     43\u001b[0m                 xaxis\u001b[38;5;241m=\u001b[39m\u001b[38;5;28mdict\u001b[39m(title\u001b[38;5;241m=\u001b[39m\u001b[38;5;124m'\u001b[39m\u001b[38;5;124mFont Size\u001b[39m\u001b[38;5;124m'\u001b[39m, tickvals\u001b[38;5;241m=\u001b[39mgrouped_df[\u001b[38;5;124m'\u001b[39m\u001b[38;5;124mfont_size\u001b[39m\u001b[38;5;124m'\u001b[39m], ticktext\u001b[38;5;241m=\u001b[39mgrouped_df[\u001b[38;5;124m'\u001b[39m\u001b[38;5;124mfont_size\u001b[39m\u001b[38;5;124m'\u001b[39m]), \u001b[38;5;66;03m# updating x-axis\u001b[39;00m\n\u001b[0;32m     44\u001b[0m                 yaxis\u001b[38;5;241m=\u001b[39m\u001b[38;5;28mdict\u001b[39m(title\u001b[38;5;241m=\u001b[39m\u001b[38;5;124m'\u001b[39m\u001b[38;5;124mMean Accuracy\u001b[39m\u001b[38;5;124m'\u001b[39m), \u001b[38;5;66;03m# updating y-axis\u001b[39;00m\n\u001b[1;32m   (...)\u001b[0m\n\u001b[0;32m     54\u001b[0m                 height\u001b[38;5;241m=\u001b[39m\u001b[38;5;241m500\u001b[39m,\n\u001b[0;32m     55\u001b[0m                 width\u001b[38;5;241m=\u001b[39m\u001b[38;5;241m1000\u001b[39m)\n\u001b[0;32m     57\u001b[0m fig\u001b[38;5;241m.\u001b[39mupdate_yaxes(\u001b[38;5;28mrange\u001b[39m\u001b[38;5;241m=\u001b[39m[\u001b[38;5;241m0\u001b[39m, \u001b[38;5;241m1.05\u001b[39m])\n\u001b[1;32m---> 58\u001b[0m \u001b[43mpio\u001b[49m\u001b[38;5;241;43m.\u001b[39;49m\u001b[43mwrite_image\u001b[49m\u001b[43m(\u001b[49m\u001b[43mfig\u001b[49m\u001b[43m,\u001b[49m\u001b[43m \u001b[49m\u001b[43mos\u001b[49m\u001b[38;5;241;43m.\u001b[39;49m\u001b[43mpath\u001b[49m\u001b[38;5;241;43m.\u001b[39;49m\u001b[43mjoin\u001b[49m\u001b[43m(\u001b[49m\u001b[38;5;124;43m'\u001b[39;49m\u001b[38;5;124;43mplots\u001b[39;49m\u001b[38;5;124;43m'\u001b[39;49m\u001b[43m,\u001b[49m\u001b[43m \u001b[49m\u001b[38;5;124;43m'\u001b[39;49m\u001b[38;5;124;43mby_font_name\u001b[39;49m\u001b[38;5;124;43m'\u001b[39;49m\u001b[43m,\u001b[49m\u001b[43m \u001b[49m\u001b[38;5;124;43mf\u001b[39;49m\u001b[38;5;124;43m'\u001b[39;49m\u001b[38;5;124;43mpeignot_accuracy_by_font-size.png\u001b[39;49m\u001b[38;5;124;43m'\u001b[39;49m\u001b[43m)\u001b[49m\u001b[43m,\u001b[49m\u001b[43m \u001b[49m\u001b[43mscale\u001b[49m\u001b[38;5;241;43m=\u001b[39;49m\u001b[38;5;241;43m6\u001b[39;49m\u001b[43m,\u001b[49m\u001b[43m \u001b[49m\u001b[43mengine\u001b[49m\u001b[38;5;241;43m=\u001b[39;49m\u001b[38;5;124;43m'\u001b[39;49m\u001b[38;5;124;43mkaleido\u001b[39;49m\u001b[38;5;124;43m'\u001b[39;49m\u001b[43m)\u001b[49m\n",
      "File \u001b[1;32m~\\AppData\\Local\\Packages\\PythonSoftwareFoundation.Python.3.12_qbz5n2kfra8p0\\LocalCache\\local-packages\\Python312\\site-packages\\plotly\\io\\_kaleido.py:266\u001b[0m, in \u001b[0;36mwrite_image\u001b[1;34m(fig, file, format, scale, width, height, validate, engine)\u001b[0m\n\u001b[0;32m    250\u001b[0m             \u001b[38;5;28;01mraise\u001b[39;00m \u001b[38;5;167;01mValueError\u001b[39;00m(\n\u001b[0;32m    251\u001b[0m \u001b[38;5;250m                \u001b[39m\u001b[38;5;124;03m\"\"\"\u001b[39;00m\n\u001b[0;32m    252\u001b[0m \u001b[38;5;124;03mCannot infer image type from output path '{file}'.\u001b[39;00m\n\u001b[1;32m   (...)\u001b[0m\n\u001b[0;32m    260\u001b[0m                 )\n\u001b[0;32m    261\u001b[0m             )\n\u001b[0;32m    263\u001b[0m     \u001b[38;5;66;03m# Request image\u001b[39;00m\n\u001b[0;32m    264\u001b[0m     \u001b[38;5;66;03m# -------------\u001b[39;00m\n\u001b[0;32m    265\u001b[0m     \u001b[38;5;66;03m# Do this first so we don't create a file if image conversion fails\u001b[39;00m\n\u001b[1;32m--> 266\u001b[0m     img_data \u001b[38;5;241m=\u001b[39m \u001b[43mto_image\u001b[49m\u001b[43m(\u001b[49m\n\u001b[0;32m    267\u001b[0m \u001b[43m        \u001b[49m\u001b[43mfig\u001b[49m\u001b[43m,\u001b[49m\n\u001b[0;32m    268\u001b[0m \u001b[43m        \u001b[49m\u001b[38;5;28;43mformat\u001b[39;49m\u001b[38;5;241;43m=\u001b[39;49m\u001b[38;5;28;43mformat\u001b[39;49m\u001b[43m,\u001b[49m\n\u001b[0;32m    269\u001b[0m \u001b[43m        \u001b[49m\u001b[43mscale\u001b[49m\u001b[38;5;241;43m=\u001b[39;49m\u001b[43mscale\u001b[49m\u001b[43m,\u001b[49m\n\u001b[0;32m    270\u001b[0m \u001b[43m        \u001b[49m\u001b[43mwidth\u001b[49m\u001b[38;5;241;43m=\u001b[39;49m\u001b[43mwidth\u001b[49m\u001b[43m,\u001b[49m\n\u001b[0;32m    271\u001b[0m \u001b[43m        \u001b[49m\u001b[43mheight\u001b[49m\u001b[38;5;241;43m=\u001b[39;49m\u001b[43mheight\u001b[49m\u001b[43m,\u001b[49m\n\u001b[0;32m    272\u001b[0m \u001b[43m        \u001b[49m\u001b[43mvalidate\u001b[49m\u001b[38;5;241;43m=\u001b[39;49m\u001b[43mvalidate\u001b[49m\u001b[43m,\u001b[49m\n\u001b[0;32m    273\u001b[0m \u001b[43m        \u001b[49m\u001b[43mengine\u001b[49m\u001b[38;5;241;43m=\u001b[39;49m\u001b[43mengine\u001b[49m\u001b[43m,\u001b[49m\n\u001b[0;32m    274\u001b[0m \u001b[43m    \u001b[49m\u001b[43m)\u001b[49m\n\u001b[0;32m    276\u001b[0m     \u001b[38;5;66;03m# Open file\u001b[39;00m\n\u001b[0;32m    277\u001b[0m     \u001b[38;5;66;03m# ---------\u001b[39;00m\n\u001b[0;32m    278\u001b[0m     \u001b[38;5;28;01mif\u001b[39;00m path \u001b[38;5;129;01mis\u001b[39;00m \u001b[38;5;28;01mNone\u001b[39;00m:\n\u001b[0;32m    279\u001b[0m         \u001b[38;5;66;03m# We previously failed to make sense of `file` as a pathlib object.\u001b[39;00m\n\u001b[0;32m    280\u001b[0m         \u001b[38;5;66;03m# Attempt to write to `file` as an open file descriptor.\u001b[39;00m\n",
      "File \u001b[1;32m~\\AppData\\Local\\Packages\\PythonSoftwareFoundation.Python.3.12_qbz5n2kfra8p0\\LocalCache\\local-packages\\Python312\\site-packages\\plotly\\io\\_kaleido.py:132\u001b[0m, in \u001b[0;36mto_image\u001b[1;34m(fig, format, width, height, scale, validate, engine)\u001b[0m\n\u001b[0;32m    130\u001b[0m     \u001b[38;5;66;03m# Raise informative error message if Kaleido is not installed\u001b[39;00m\n\u001b[0;32m    131\u001b[0m     \u001b[38;5;28;01mif\u001b[39;00m scope \u001b[38;5;129;01mis\u001b[39;00m \u001b[38;5;28;01mNone\u001b[39;00m:\n\u001b[1;32m--> 132\u001b[0m         \u001b[38;5;28;01mraise\u001b[39;00m \u001b[38;5;167;01mValueError\u001b[39;00m(\n\u001b[0;32m    133\u001b[0m \u001b[38;5;250m            \u001b[39m\u001b[38;5;124;03m\"\"\"\u001b[39;00m\n\u001b[0;32m    134\u001b[0m \u001b[38;5;124;03mImage export using the \"kaleido\" engine requires the kaleido package,\u001b[39;00m\n\u001b[0;32m    135\u001b[0m \u001b[38;5;124;03mwhich can be installed using pip:\u001b[39;00m\n\u001b[0;32m    136\u001b[0m \u001b[38;5;124;03m    $ pip install -U kaleido\u001b[39;00m\n\u001b[0;32m    137\u001b[0m \u001b[38;5;124;03m\"\"\"\u001b[39;00m\n\u001b[0;32m    138\u001b[0m         )\n\u001b[0;32m    140\u001b[0m     \u001b[38;5;66;03m# Validate figure\u001b[39;00m\n\u001b[0;32m    141\u001b[0m     \u001b[38;5;66;03m# ---------------\u001b[39;00m\n\u001b[0;32m    142\u001b[0m     fig_dict \u001b[38;5;241m=\u001b[39m validate_coerce_fig_to_dict(fig, validate)\n",
      "\u001b[1;31mValueError\u001b[0m: \nImage export using the \"kaleido\" engine requires the kaleido package,\nwhich can be installed using pip:\n    $ pip install -U kaleido\n"
     ]
    }
   ],
   "source": [
    "df['font_name'] = df['font_name'].replace('peignotbold', 'peignot')\n",
    "\n",
    "filtered_df = df[df['font_name'] == 'peignot']\n",
    "\n",
    "grouped_df = filtered_df.groupby(['font_size', 'underlined', 'bold'])['accuracy'].mean().reset_index()\n",
    "\n",
    "fig = go.Figure()\n",
    "\n",
    "fig.add_trace(go.Bar(\n",
    "    x=grouped_df[(grouped_df['underlined'] == False) & (grouped_df['bold'] == False)]['font_size'],\n",
    "    y=grouped_df[(grouped_df['underlined'] == False) & (grouped_df['bold'] == False)]['accuracy'],\n",
    "    text=grouped_df[(grouped_df['underlined'] == False) & (grouped_df['bold'] == False)]['accuracy'].round(2),\n",
    "    textposition='outside',\n",
    "    textangle=270,\n",
    "    textfont=dict(size=10),\n",
    "    name='Regular',\n",
    "    marker_color='chartreuse'\n",
    "))\n",
    "\n",
    "fig.add_trace(go.Bar(\n",
    "    x=grouped_df[(grouped_df['underlined'] == True) & (grouped_df['bold'] == False)]['font_size'],\n",
    "    y=grouped_df[(grouped_df['underlined'] == True) & (grouped_df['bold'] == False)]['accuracy'],\n",
    "    text=grouped_df[(grouped_df['underlined'] == True) & (grouped_df['bold'] == False)]['accuracy'].round(2),\n",
    "    textposition='outside',\n",
    "    textangle=270,\n",
    "    textfont=dict(size=10),\n",
    "    name='Underlined',\n",
    "    marker_color='cyan'\n",
    "))\n",
    "\n",
    "fig.add_trace(go.Bar(\n",
    "    x=grouped_df[(grouped_df['bold'] == True) & (grouped_df['underlined'] == False)]['font_size'],\n",
    "    y=grouped_df[(grouped_df['bold'] == True) & (grouped_df['underlined'] == False)]['accuracy'],\n",
    "    text=grouped_df[(grouped_df['bold'] == True) & (grouped_df['underlined'] == False)]['accuracy'].round(2),\n",
    "    textposition='outside',\n",
    "    textangle=270,\n",
    "    textfont=dict(size=10),\n",
    "    name='Bold',\n",
    "    marker_color='firebrick'\n",
    "))\n",
    "\n",
    "fig.update_layout(title='peignot',\n",
    "                xaxis=dict(title='Font Size', tickvals=grouped_df['font_size'], ticktext=grouped_df['font_size']), # updating x-axis\n",
    "                yaxis=dict(title='Mean Accuracy'), # updating y-axis\n",
    "                font=dict(size=16),\n",
    "                legend=dict(\n",
    "                    orientation=\"h\",\n",
    "                    yanchor=\"top\",\n",
    "                    y=1.15,\n",
    "                    xanchor=\"center\",\n",
    "                    x=0.5\n",
    "                ),\n",
    "                bargap=0.2,\n",
    "                height=500,\n",
    "                width=1000)\n",
    "\n",
    "fig.update_yaxes(range=[0, 1.05])"
   ]
  }
 ],
 "metadata": {
  "kernelspec": {
   "display_name": ".venv",
   "language": "python",
   "name": "python3"
  },
  "language_info": {
   "codemirror_mode": {
    "name": "ipython",
    "version": 3
   },
   "file_extension": ".py",
   "mimetype": "text/x-python",
   "name": "python",
   "nbconvert_exporter": "python",
   "pygments_lexer": "ipython3",
   "version": "3.12.3"
  }
 },
 "nbformat": 4,
 "nbformat_minor": 2
}
